{
 "cells": [
  {
   "cell_type": "markdown",
   "id": "413fa740",
   "metadata": {
    "papermill": {
     "duration": 0.012683,
     "end_time": "2023-08-30T22:44:46.903637",
     "exception": false,
     "start_time": "2023-08-30T22:44:46.890954",
     "status": "completed"
    },
    "tags": []
   },
   "source": [
    "# **Sentiment Prediction on Movie Reviews**\n",
    "## Introduction\n",
    "In this notebook, we will build a machine learning model to predict the sentiment of movie reviews using Python and the provided dataset. We will utilize the libraries Scikit-learn, XGBoost, Imblearn, NumPy, Pandas, SciPy, Pickle, regex, Seaborn, Matplotlib, and LightGBM. The goal is to predict whether a review has a positive or negative sentiment."
   ]
  },
  {
   "cell_type": "code",
   "execution_count": 1,
   "id": "3d647679",
   "metadata": {
    "_cell_guid": "b1076dfc-b9ad-4769-8c92-a6c4dae69d19",
    "_uuid": "8f2839f25d086af736a60e9eeb907d3b93b6e0e5",
    "execution": {
     "iopub.execute_input": "2023-08-30T22:44:46.930987Z",
     "iopub.status.busy": "2023-08-30T22:44:46.929775Z",
     "iopub.status.idle": "2023-08-30T22:44:46.943112Z",
     "shell.execute_reply": "2023-08-30T22:44:46.941526Z"
    },
    "papermill": {
     "duration": 0.02961,
     "end_time": "2023-08-30T22:44:46.945570",
     "exception": false,
     "start_time": "2023-08-30T22:44:46.915960",
     "status": "completed"
    },
    "tags": []
   },
   "outputs": [
    {
     "name": "stdout",
     "output_type": "stream",
     "text": [
      "/kaggle/input/sentiment-prediction-on-movie-reviews/movies.csv\n",
      "/kaggle/input/sentiment-prediction-on-movie-reviews/sample.csv\n",
      "/kaggle/input/sentiment-prediction-on-movie-reviews/train.csv\n",
      "/kaggle/input/sentiment-prediction-on-movie-reviews/test.csv\n"
     ]
    }
   ],
   "source": [
    "## This Python 3 environment comes with many helpful analytics libraries installed\n",
    "# It is defined by the kaggle/python Docker image: https://github.com/kaggle/docker-python\n",
    "# For example, here's several helpful packages to load\n",
    "\n",
    "import numpy as np # linear algebra\n",
    "import pandas as pd # data processing, CSV file I/O (e.g. pd.read_csv)\n",
    "\n",
    "# Input data files are available in the read-only \"../input/\" directory\n",
    "# For example, running this (by clicking run or pressing Shift+Enter) will list all files under the input directory\n",
    "\n",
    "import os\n",
    "for dirname, _, filenames in os.walk('/kaggle/input'):\n",
    "    for filename in filenames:\n",
    "        print(os.path.join(dirname, filename))\n",
    "\n",
    "# You can write up to 20GB to the current directory (/kaggle/working/) that gets preserved as output when you create a version using \"Save & Run All\" \n",
    "# You can also write temporary files to /kaggle/temp/, but they won't be saved outside of the current session"
   ]
  },
  {
   "cell_type": "code",
   "execution_count": 2,
   "id": "552bb6f1",
   "metadata": {
    "execution": {
     "iopub.execute_input": "2023-08-30T22:44:46.974649Z",
     "iopub.status.busy": "2023-08-30T22:44:46.974312Z",
     "iopub.status.idle": "2023-08-30T22:44:49.148548Z",
     "shell.execute_reply": "2023-08-30T22:44:49.147575Z"
    },
    "papermill": {
     "duration": 2.19071,
     "end_time": "2023-08-30T22:44:49.150839",
     "exception": false,
     "start_time": "2023-08-30T22:44:46.960129",
     "status": "completed"
    },
    "tags": []
   },
   "outputs": [],
   "source": [
    "import matplotlib.pyplot as plt\n",
    "import seaborn as sns\n",
    "from sklearn.model_selection import train_test_split\n",
    "from sklearn.feature_extraction.text import CountVectorizer\n",
    "from sklearn.preprocessing import LabelEncoder\n",
    "from sklearn.utils import resample\n",
    "from sklearn.feature_extraction.text import TfidfVectorizer\n",
    "from sklearn.linear_model import LogisticRegression\n",
    "from sklearn.pipeline import make_pipeline\n",
    "from sklearn.preprocessing import PolynomialFeatures, StandardScaler\n",
    "from sklearn.model_selection import GridSearchCV\n",
    "from sklearn.metrics import accuracy_score\n",
    "from sklearn.feature_selection import SelectKBest, chi2\n",
    "from sklearn.decomposition import PCA\n",
    "from sklearn.decomposition import TruncatedSVD\n",
    "from sklearn.ensemble import RandomForestClassifier\n",
    "from sklearn.tree import DecisionTreeClassifier\n",
    "from sklearn.ensemble import GradientBoostingClassifier\n",
    "from sklearn.neighbors import KNeighborsClassifier\n",
    "from sklearn.neural_network import MLPClassifier\n",
    "from sklearn.svm import SVC\n",
    "from sklearn.ensemble import StackingClassifier\n",
    "from sklearn.ensemble import BaggingClassifier, AdaBoostClassifier\n",
    "from sklearn.metrics import accuracy_score\n",
    "from sklearn.metrics import f1_score\n",
    "from sklearn.metrics import classification_report, confusion_matrix, roc_curve, roc_auc_score"
   ]
  },
  {
   "cell_type": "markdown",
   "id": "c66a0f79",
   "metadata": {
    "papermill": {
     "duration": 0.012758,
     "end_time": "2023-08-30T22:44:49.176850",
     "exception": false,
     "start_time": "2023-08-30T22:44:49.164092",
     "status": "completed"
    },
    "tags": []
   },
   "source": [
    "# Data Preparation"
   ]
  },
  {
   "cell_type": "markdown",
   "id": "30902bea",
   "metadata": {
    "papermill": {
     "duration": 0.012812,
     "end_time": "2023-08-30T22:44:49.202615",
     "exception": false,
     "start_time": "2023-08-30T22:44:49.189803",
     "status": "completed"
    },
    "tags": []
   },
   "source": [
    "## Loading Data\n",
    "We start by loading the necessary datasets: train.csv, test.csv, movies.csv, and sample.csv."
   ]
  },
  {
   "cell_type": "code",
   "execution_count": 3,
   "id": "7e3f8d26",
   "metadata": {
    "execution": {
     "iopub.execute_input": "2023-08-30T22:44:49.230624Z",
     "iopub.status.busy": "2023-08-30T22:44:49.230026Z",
     "iopub.status.idle": "2023-08-30T22:44:50.468305Z",
     "shell.execute_reply": "2023-08-30T22:44:50.466846Z"
    },
    "papermill": {
     "duration": 1.255466,
     "end_time": "2023-08-30T22:44:50.471003",
     "exception": false,
     "start_time": "2023-08-30T22:44:49.215537",
     "status": "completed"
    },
    "tags": []
   },
   "outputs": [],
   "source": [
    "train_data = pd.read_csv('/kaggle/input/sentiment-prediction-on-movie-reviews/train.csv')"
   ]
  },
  {
   "cell_type": "code",
   "execution_count": 4,
   "id": "d1cba56c",
   "metadata": {
    "execution": {
     "iopub.execute_input": "2023-08-30T22:44:50.499152Z",
     "iopub.status.busy": "2023-08-30T22:44:50.498783Z",
     "iopub.status.idle": "2023-08-30T22:44:50.795918Z",
     "shell.execute_reply": "2023-08-30T22:44:50.794191Z"
    },
    "papermill": {
     "duration": 0.314121,
     "end_time": "2023-08-30T22:44:50.798649",
     "exception": false,
     "start_time": "2023-08-30T22:44:50.484528",
     "status": "completed"
    },
    "tags": []
   },
   "outputs": [],
   "source": [
    "test_data = pd.read_csv('/kaggle/input/sentiment-prediction-on-movie-reviews/test.csv')"
   ]
  },
  {
   "cell_type": "code",
   "execution_count": 5,
   "id": "f0b68ef0",
   "metadata": {
    "execution": {
     "iopub.execute_input": "2023-08-30T22:44:50.827059Z",
     "iopub.status.busy": "2023-08-30T22:44:50.826673Z",
     "iopub.status.idle": "2023-08-30T22:44:51.552727Z",
     "shell.execute_reply": "2023-08-30T22:44:51.551299Z"
    },
    "papermill": {
     "duration": 0.74341,
     "end_time": "2023-08-30T22:44:51.555581",
     "exception": false,
     "start_time": "2023-08-30T22:44:50.812171",
     "status": "completed"
    },
    "tags": []
   },
   "outputs": [],
   "source": [
    "movies_data = pd.read_csv('/kaggle/input/sentiment-prediction-on-movie-reviews/movies.csv')"
   ]
  },
  {
   "cell_type": "code",
   "execution_count": 6,
   "id": "8e1f9af7",
   "metadata": {
    "execution": {
     "iopub.execute_input": "2023-08-30T22:44:51.583130Z",
     "iopub.status.busy": "2023-08-30T22:44:51.582779Z",
     "iopub.status.idle": "2023-08-30T22:44:51.607884Z",
     "shell.execute_reply": "2023-08-30T22:44:51.606585Z"
    },
    "papermill": {
     "duration": 0.041583,
     "end_time": "2023-08-30T22:44:51.610220",
     "exception": false,
     "start_time": "2023-08-30T22:44:51.568637",
     "status": "completed"
    },
    "tags": []
   },
   "outputs": [],
   "source": [
    "sample_data = pd.read_csv('/kaggle/input/sentiment-prediction-on-movie-reviews/sample.csv')"
   ]
  },
  {
   "cell_type": "markdown",
   "id": "29e4bd6a",
   "metadata": {
    "papermill": {
     "duration": 0.012422,
     "end_time": "2023-08-30T22:44:51.635575",
     "exception": false,
     "start_time": "2023-08-30T22:44:51.623153",
     "status": "completed"
    },
    "tags": []
   },
   "source": [
    "## Exploratory Data Analysis and Data Preprocessing"
   ]
  },
  {
   "cell_type": "code",
   "execution_count": 7,
   "id": "679433f5",
   "metadata": {
    "execution": {
     "iopub.execute_input": "2023-08-30T22:44:51.662210Z",
     "iopub.status.busy": "2023-08-30T22:44:51.661821Z",
     "iopub.status.idle": "2023-08-30T22:44:51.692953Z",
     "shell.execute_reply": "2023-08-30T22:44:51.691746Z"
    },
    "papermill": {
     "duration": 0.046944,
     "end_time": "2023-08-30T22:44:51.695070",
     "exception": false,
     "start_time": "2023-08-30T22:44:51.648126",
     "status": "completed"
    },
    "tags": []
   },
   "outputs": [
    {
     "data": {
      "text/html": [
       "<div>\n",
       "<style scoped>\n",
       "    .dataframe tbody tr th:only-of-type {\n",
       "        vertical-align: middle;\n",
       "    }\n",
       "\n",
       "    .dataframe tbody tr th {\n",
       "        vertical-align: top;\n",
       "    }\n",
       "\n",
       "    .dataframe thead th {\n",
       "        text-align: right;\n",
       "    }\n",
       "</style>\n",
       "<table border=\"1\" class=\"dataframe\">\n",
       "  <thead>\n",
       "    <tr style=\"text-align: right;\">\n",
       "      <th></th>\n",
       "      <th>movieid</th>\n",
       "      <th>reviewerName</th>\n",
       "      <th>isFrequentReviewer</th>\n",
       "      <th>reviewText</th>\n",
       "      <th>sentiment</th>\n",
       "    </tr>\n",
       "  </thead>\n",
       "  <tbody>\n",
       "    <tr>\n",
       "      <th>0</th>\n",
       "      <td>marvelous_pirate</td>\n",
       "      <td>Benjamin Henry</td>\n",
       "      <td>False</td>\n",
       "      <td>Henry Selick’s first movie since 2009’s Corali...</td>\n",
       "      <td>POSITIVE</td>\n",
       "    </tr>\n",
       "    <tr>\n",
       "      <th>1</th>\n",
       "      <td>tony_montana_frodo_baggins_v_rocky_balboa</td>\n",
       "      <td>Felicia Lopez</td>\n",
       "      <td>False</td>\n",
       "      <td>With a cast that reads like the Vogue Oscar pa...</td>\n",
       "      <td>NEGATIVE</td>\n",
       "    </tr>\n",
       "    <tr>\n",
       "      <th>2</th>\n",
       "      <td>darth_vader_katniss_everdeen_sorcerer_donnie_d...</td>\n",
       "      <td>Mr. Charles Burgess</td>\n",
       "      <td>True</td>\n",
       "      <td>Creed II does not give us anything but another...</td>\n",
       "      <td>POSITIVE</td>\n",
       "    </tr>\n",
       "    <tr>\n",
       "      <th>3</th>\n",
       "      <td>lara_croft_glimmer</td>\n",
       "      <td>Ryan Barrett</td>\n",
       "      <td>False</td>\n",
       "      <td>I know what you're thinking, but this is no Li...</td>\n",
       "      <td>POSITIVE</td>\n",
       "    </tr>\n",
       "    <tr>\n",
       "      <th>4</th>\n",
       "      <td>jason_bourne_surreal_the_terminator_indiana_jones</td>\n",
       "      <td>Alexander Glover</td>\n",
       "      <td>False</td>\n",
       "      <td>Director Fernando Meirelles tells the story wi...</td>\n",
       "      <td>POSITIVE</td>\n",
       "    </tr>\n",
       "  </tbody>\n",
       "</table>\n",
       "</div>"
      ],
      "text/plain": [
       "                                             movieid         reviewerName  \\\n",
       "0                                   marvelous_pirate       Benjamin Henry   \n",
       "1          tony_montana_frodo_baggins_v_rocky_balboa        Felicia Lopez   \n",
       "2  darth_vader_katniss_everdeen_sorcerer_donnie_d...  Mr. Charles Burgess   \n",
       "3                                 lara_croft_glimmer         Ryan Barrett   \n",
       "4  jason_bourne_surreal_the_terminator_indiana_jones     Alexander Glover   \n",
       "\n",
       "   isFrequentReviewer                                         reviewText  \\\n",
       "0               False  Henry Selick’s first movie since 2009’s Corali...   \n",
       "1               False  With a cast that reads like the Vogue Oscar pa...   \n",
       "2                True  Creed II does not give us anything but another...   \n",
       "3               False  I know what you're thinking, but this is no Li...   \n",
       "4               False  Director Fernando Meirelles tells the story wi...   \n",
       "\n",
       "  sentiment  \n",
       "0  POSITIVE  \n",
       "1  NEGATIVE  \n",
       "2  POSITIVE  \n",
       "3  POSITIVE  \n",
       "4  POSITIVE  "
      ]
     },
     "execution_count": 7,
     "metadata": {},
     "output_type": "execute_result"
    }
   ],
   "source": [
    "# Explore the train dataset\n",
    "train_data.head()"
   ]
  },
  {
   "cell_type": "code",
   "execution_count": 8,
   "id": "c249ce80",
   "metadata": {
    "execution": {
     "iopub.execute_input": "2023-08-30T22:44:51.723344Z",
     "iopub.status.busy": "2023-08-30T22:44:51.722935Z",
     "iopub.status.idle": "2023-08-30T22:44:51.733838Z",
     "shell.execute_reply": "2023-08-30T22:44:51.732939Z"
    },
    "papermill": {
     "duration": 0.027526,
     "end_time": "2023-08-30T22:44:51.736137",
     "exception": false,
     "start_time": "2023-08-30T22:44:51.708611",
     "status": "completed"
    },
    "tags": []
   },
   "outputs": [
    {
     "data": {
      "text/html": [
       "<div>\n",
       "<style scoped>\n",
       "    .dataframe tbody tr th:only-of-type {\n",
       "        vertical-align: middle;\n",
       "    }\n",
       "\n",
       "    .dataframe tbody tr th {\n",
       "        vertical-align: top;\n",
       "    }\n",
       "\n",
       "    .dataframe thead th {\n",
       "        text-align: right;\n",
       "    }\n",
       "</style>\n",
       "<table border=\"1\" class=\"dataframe\">\n",
       "  <thead>\n",
       "    <tr style=\"text-align: right;\">\n",
       "      <th></th>\n",
       "      <th>movieid</th>\n",
       "      <th>reviewerName</th>\n",
       "      <th>isTopCritic</th>\n",
       "      <th>reviewText</th>\n",
       "    </tr>\n",
       "  </thead>\n",
       "  <tbody>\n",
       "    <tr>\n",
       "      <th>0</th>\n",
       "      <td>legend_marty_mcfly_oracle</td>\n",
       "      <td>John Kim</td>\n",
       "      <td>False</td>\n",
       "      <td>Green slowly cranks up the dread with style an...</td>\n",
       "    </tr>\n",
       "    <tr>\n",
       "      <th>1</th>\n",
       "      <td>terminator_katniss_everdeen_glimmer</td>\n",
       "      <td>Brian Chaney</td>\n",
       "      <td>False</td>\n",
       "      <td>Philip Noyce's direction is elegant and unforc...</td>\n",
       "    </tr>\n",
       "    <tr>\n",
       "      <th>2</th>\n",
       "      <td>james_bond_labyrinth_gollum</td>\n",
       "      <td>Danielle Parker</td>\n",
       "      <td>False</td>\n",
       "      <td>It wouldn't do to say what path Maria ultimate...</td>\n",
       "    </tr>\n",
       "    <tr>\n",
       "      <th>3</th>\n",
       "      <td>v_quest_han_solo_wondrous</td>\n",
       "      <td>Brittany Lane</td>\n",
       "      <td>False</td>\n",
       "      <td>Pig is not exactly the arthouse John Wick that...</td>\n",
       "    </tr>\n",
       "    <tr>\n",
       "      <th>4</th>\n",
       "      <td>enigma_hulk_surreal_starlight</td>\n",
       "      <td>Justin Willis</td>\n",
       "      <td>False</td>\n",
       "      <td>An imaginative no-budget musical of sorts abou...</td>\n",
       "    </tr>\n",
       "  </tbody>\n",
       "</table>\n",
       "</div>"
      ],
      "text/plain": [
       "                               movieid     reviewerName  isTopCritic  \\\n",
       "0            legend_marty_mcfly_oracle         John Kim        False   \n",
       "1  terminator_katniss_everdeen_glimmer     Brian Chaney        False   \n",
       "2          james_bond_labyrinth_gollum  Danielle Parker        False   \n",
       "3            v_quest_han_solo_wondrous    Brittany Lane        False   \n",
       "4        enigma_hulk_surreal_starlight    Justin Willis        False   \n",
       "\n",
       "                                          reviewText  \n",
       "0  Green slowly cranks up the dread with style an...  \n",
       "1  Philip Noyce's direction is elegant and unforc...  \n",
       "2  It wouldn't do to say what path Maria ultimate...  \n",
       "3  Pig is not exactly the arthouse John Wick that...  \n",
       "4  An imaginative no-budget musical of sorts abou...  "
      ]
     },
     "execution_count": 8,
     "metadata": {},
     "output_type": "execute_result"
    }
   ],
   "source": [
    "# Explore the test dataset\n",
    "test_data.head()"
   ]
  },
  {
   "cell_type": "code",
   "execution_count": 9,
   "id": "b62060a1",
   "metadata": {
    "execution": {
     "iopub.execute_input": "2023-08-30T22:44:51.764808Z",
     "iopub.status.busy": "2023-08-30T22:44:51.764430Z",
     "iopub.status.idle": "2023-08-30T22:44:51.780342Z",
     "shell.execute_reply": "2023-08-30T22:44:51.779434Z"
    },
    "papermill": {
     "duration": 0.032166,
     "end_time": "2023-08-30T22:44:51.782147",
     "exception": false,
     "start_time": "2023-08-30T22:44:51.749981",
     "status": "completed"
    },
    "tags": []
   },
   "outputs": [
    {
     "data": {
      "text/html": [
       "<div>\n",
       "<style scoped>\n",
       "    .dataframe tbody tr th:only-of-type {\n",
       "        vertical-align: middle;\n",
       "    }\n",
       "\n",
       "    .dataframe tbody tr th {\n",
       "        vertical-align: top;\n",
       "    }\n",
       "\n",
       "    .dataframe thead th {\n",
       "        text-align: right;\n",
       "    }\n",
       "</style>\n",
       "<table border=\"1\" class=\"dataframe\">\n",
       "  <thead>\n",
       "    <tr style=\"text-align: right;\">\n",
       "      <th></th>\n",
       "      <th>movieid</th>\n",
       "      <th>title</th>\n",
       "      <th>audienceScore</th>\n",
       "      <th>rating</th>\n",
       "      <th>ratingContents</th>\n",
       "      <th>releaseDateTheaters</th>\n",
       "      <th>releaseDateStreaming</th>\n",
       "      <th>runtimeMinutes</th>\n",
       "      <th>genre</th>\n",
       "      <th>originalLanguage</th>\n",
       "      <th>director</th>\n",
       "      <th>boxOffice</th>\n",
       "      <th>distributor</th>\n",
       "      <th>soundType</th>\n",
       "    </tr>\n",
       "  </thead>\n",
       "  <tbody>\n",
       "    <tr>\n",
       "      <th>0</th>\n",
       "      <td>han_solo_heroic_myth_wonder_woman</td>\n",
       "      <td>Han Solo Heroic Myth Wonder Woman</td>\n",
       "      <td>50.0</td>\n",
       "      <td>NaN</td>\n",
       "      <td>NaN</td>\n",
       "      <td>NaN</td>\n",
       "      <td>2018-08-25</td>\n",
       "      <td>75.0</td>\n",
       "      <td>Comedy, Horror, Sci-fi</td>\n",
       "      <td>English</td>\n",
       "      <td>Claude Nicolet</td>\n",
       "      <td>NaN</td>\n",
       "      <td>NaN</td>\n",
       "      <td>NaN</td>\n",
       "    </tr>\n",
       "    <tr>\n",
       "      <th>1</th>\n",
       "      <td>voyage_tyler_durden_han_solo_stardust</td>\n",
       "      <td>Voyage Tyler Durden Han Solo Stardust</td>\n",
       "      <td>NaN</td>\n",
       "      <td>NaN</td>\n",
       "      <td>NaN</td>\n",
       "      <td>NaN</td>\n",
       "      <td>2020-02-11</td>\n",
       "      <td>114.0</td>\n",
       "      <td>Drama</td>\n",
       "      <td>English</td>\n",
       "      <td>Nathan Haack</td>\n",
       "      <td>NaN</td>\n",
       "      <td>NaN</td>\n",
       "      <td>NaN</td>\n",
       "    </tr>\n",
       "    <tr>\n",
       "      <th>2</th>\n",
       "      <td>norman_bates_ferris_bueller_hermione_granger_v...</td>\n",
       "      <td>Norman Bates Ferris Bueller Hermione Granger V...</td>\n",
       "      <td>43.0</td>\n",
       "      <td>NaN</td>\n",
       "      <td>NaN</td>\n",
       "      <td>NaN</td>\n",
       "      <td>NaN</td>\n",
       "      <td>120.0</td>\n",
       "      <td>Drama</td>\n",
       "      <td>Korean</td>\n",
       "      <td>Theresa Smith</td>\n",
       "      <td>NaN</td>\n",
       "      <td>NaN</td>\n",
       "      <td>NaN</td>\n",
       "    </tr>\n",
       "    <tr>\n",
       "      <th>3</th>\n",
       "      <td>elegant_hermione_granger</td>\n",
       "      <td>Elegant Hermione Granger</td>\n",
       "      <td>60.0</td>\n",
       "      <td>NaN</td>\n",
       "      <td>NaN</td>\n",
       "      <td>NaN</td>\n",
       "      <td>2020-10-23</td>\n",
       "      <td>90.0</td>\n",
       "      <td>Action, Mystery &amp; thriller</td>\n",
       "      <td>English</td>\n",
       "      <td>Donald Lewis</td>\n",
       "      <td>NaN</td>\n",
       "      <td>NaN</td>\n",
       "      <td>NaN</td>\n",
       "    </tr>\n",
       "    <tr>\n",
       "      <th>4</th>\n",
       "      <td>adventure_rocky_balboa</td>\n",
       "      <td>Adventure Rocky Balboa</td>\n",
       "      <td>70.0</td>\n",
       "      <td>NaN</td>\n",
       "      <td>NaN</td>\n",
       "      <td>NaN</td>\n",
       "      <td>2017-03-27</td>\n",
       "      <td>80.0</td>\n",
       "      <td>Fantasy, Adventure, Animation</td>\n",
       "      <td>English</td>\n",
       "      <td>Howard Simms</td>\n",
       "      <td>NaN</td>\n",
       "      <td>NaN</td>\n",
       "      <td>NaN</td>\n",
       "    </tr>\n",
       "  </tbody>\n",
       "</table>\n",
       "</div>"
      ],
      "text/plain": [
       "                                             movieid  \\\n",
       "0                  han_solo_heroic_myth_wonder_woman   \n",
       "1              voyage_tyler_durden_han_solo_stardust   \n",
       "2  norman_bates_ferris_bueller_hermione_granger_v...   \n",
       "3                           elegant_hermione_granger   \n",
       "4                             adventure_rocky_balboa   \n",
       "\n",
       "                                               title  audienceScore rating  \\\n",
       "0                  Han Solo Heroic Myth Wonder Woman           50.0    NaN   \n",
       "1              Voyage Tyler Durden Han Solo Stardust            NaN    NaN   \n",
       "2  Norman Bates Ferris Bueller Hermione Granger V...           43.0    NaN   \n",
       "3                           Elegant Hermione Granger           60.0    NaN   \n",
       "4                             Adventure Rocky Balboa           70.0    NaN   \n",
       "\n",
       "  ratingContents releaseDateTheaters releaseDateStreaming  runtimeMinutes  \\\n",
       "0            NaN                 NaN           2018-08-25            75.0   \n",
       "1            NaN                 NaN           2020-02-11           114.0   \n",
       "2            NaN                 NaN                  NaN           120.0   \n",
       "3            NaN                 NaN           2020-10-23            90.0   \n",
       "4            NaN                 NaN           2017-03-27            80.0   \n",
       "\n",
       "                           genre originalLanguage        director boxOffice  \\\n",
       "0         Comedy, Horror, Sci-fi          English  Claude Nicolet       NaN   \n",
       "1                          Drama          English    Nathan Haack       NaN   \n",
       "2                          Drama           Korean   Theresa Smith       NaN   \n",
       "3     Action, Mystery & thriller          English    Donald Lewis       NaN   \n",
       "4  Fantasy, Adventure, Animation          English    Howard Simms       NaN   \n",
       "\n",
       "  distributor soundType  \n",
       "0         NaN       NaN  \n",
       "1         NaN       NaN  \n",
       "2         NaN       NaN  \n",
       "3         NaN       NaN  \n",
       "4         NaN       NaN  "
      ]
     },
     "execution_count": 9,
     "metadata": {},
     "output_type": "execute_result"
    }
   ],
   "source": [
    "# Explore the movies dataset\n",
    "movies_data.head()"
   ]
  },
  {
   "cell_type": "code",
   "execution_count": 10,
   "id": "eb25360d",
   "metadata": {
    "execution": {
     "iopub.execute_input": "2023-08-30T22:44:51.812329Z",
     "iopub.status.busy": "2023-08-30T22:44:51.811001Z",
     "iopub.status.idle": "2023-08-30T22:44:51.820986Z",
     "shell.execute_reply": "2023-08-30T22:44:51.819842Z"
    },
    "papermill": {
     "duration": 0.027296,
     "end_time": "2023-08-30T22:44:51.823233",
     "exception": false,
     "start_time": "2023-08-30T22:44:51.795937",
     "status": "completed"
    },
    "tags": []
   },
   "outputs": [
    {
     "data": {
      "text/html": [
       "<div>\n",
       "<style scoped>\n",
       "    .dataframe tbody tr th:only-of-type {\n",
       "        vertical-align: middle;\n",
       "    }\n",
       "\n",
       "    .dataframe tbody tr th {\n",
       "        vertical-align: top;\n",
       "    }\n",
       "\n",
       "    .dataframe thead th {\n",
       "        text-align: right;\n",
       "    }\n",
       "</style>\n",
       "<table border=\"1\" class=\"dataframe\">\n",
       "  <thead>\n",
       "    <tr style=\"text-align: right;\">\n",
       "      <th></th>\n",
       "      <th>id</th>\n",
       "      <th>sentiment</th>\n",
       "    </tr>\n",
       "  </thead>\n",
       "  <tbody>\n",
       "    <tr>\n",
       "      <th>0</th>\n",
       "      <td>0</td>\n",
       "      <td>NEGATIVE</td>\n",
       "    </tr>\n",
       "    <tr>\n",
       "      <th>1</th>\n",
       "      <td>1</td>\n",
       "      <td>NEGATIVE</td>\n",
       "    </tr>\n",
       "    <tr>\n",
       "      <th>2</th>\n",
       "      <td>2</td>\n",
       "      <td>NEGATIVE</td>\n",
       "    </tr>\n",
       "    <tr>\n",
       "      <th>3</th>\n",
       "      <td>3</td>\n",
       "      <td>NEGATIVE</td>\n",
       "    </tr>\n",
       "    <tr>\n",
       "      <th>4</th>\n",
       "      <td>4</td>\n",
       "      <td>NEGATIVE</td>\n",
       "    </tr>\n",
       "  </tbody>\n",
       "</table>\n",
       "</div>"
      ],
      "text/plain": [
       "   id sentiment\n",
       "0   0  NEGATIVE\n",
       "1   1  NEGATIVE\n",
       "2   2  NEGATIVE\n",
       "3   3  NEGATIVE\n",
       "4   4  NEGATIVE"
      ]
     },
     "execution_count": 10,
     "metadata": {},
     "output_type": "execute_result"
    }
   ],
   "source": [
    "# Explore the sample dataset\n",
    "sample_data.head()"
   ]
  },
  {
   "cell_type": "code",
   "execution_count": 11,
   "id": "7a35e9e8",
   "metadata": {
    "execution": {
     "iopub.execute_input": "2023-08-30T22:44:51.852700Z",
     "iopub.status.busy": "2023-08-30T22:44:51.852381Z",
     "iopub.status.idle": "2023-08-30T22:44:51.857568Z",
     "shell.execute_reply": "2023-08-30T22:44:51.856235Z"
    },
    "papermill": {
     "duration": 0.021791,
     "end_time": "2023-08-30T22:44:51.859454",
     "exception": false,
     "start_time": "2023-08-30T22:44:51.837663",
     "status": "completed"
    },
    "tags": []
   },
   "outputs": [],
   "source": [
    "# from sklearn.dummy import DummyClassifier\n",
    "\n",
    "# X = train_data[\"reviewText\"]\n",
    "# y = train_data[\"sentiment\"]\n",
    "\n",
    "# dummy_clf = DummyClassifier(strategy=\"most_frequent\")\n",
    "# dummy_clf.fit(X, y)\n",
    "\n",
    "# DummyClassifier(strategy='most_frequent')\n",
    "# dummy_clf.predict(X)\n",
    "\n",
    "# sub = pd.DataFrame(dummy_clf.predict(test_data[\"reviewText\"]), columns=['sentiment'])\n",
    "# sub.index.name = 'id'\n",
    "# sub.to_csv(\"submission.csv\", encoding='utf-8')\n",
    "\n",
    "# output = pd.read_csv(\"submission.csv\")"
   ]
  },
  {
   "cell_type": "code",
   "execution_count": 12,
   "id": "38123e91",
   "metadata": {
    "execution": {
     "iopub.execute_input": "2023-08-30T22:44:51.889473Z",
     "iopub.status.busy": "2023-08-30T22:44:51.889119Z",
     "iopub.status.idle": "2023-08-30T22:44:51.895798Z",
     "shell.execute_reply": "2023-08-30T22:44:51.894662Z"
    },
    "papermill": {
     "duration": 0.02369,
     "end_time": "2023-08-30T22:44:51.897613",
     "exception": false,
     "start_time": "2023-08-30T22:44:51.873923",
     "status": "completed"
    },
    "tags": []
   },
   "outputs": [
    {
     "name": "stdout",
     "output_type": "stream",
     "text": [
      "Train dataset shape: (162758, 5)\n",
      "Test dataset shape: (55315, 4)\n"
     ]
    }
   ],
   "source": [
    "# Check the shape of train and test datasets\n",
    "print(\"Train dataset shape:\", train_data.shape)\n",
    "print(\"Test dataset shape:\", test_data.shape)"
   ]
  },
  {
   "cell_type": "code",
   "execution_count": 13,
   "id": "f1a59b70",
   "metadata": {
    "execution": {
     "iopub.execute_input": "2023-08-30T22:44:51.929829Z",
     "iopub.status.busy": "2023-08-30T22:44:51.929457Z",
     "iopub.status.idle": "2023-08-30T22:44:52.058499Z",
     "shell.execute_reply": "2023-08-30T22:44:52.056385Z"
    },
    "papermill": {
     "duration": 0.146564,
     "end_time": "2023-08-30T22:44:52.060728",
     "exception": false,
     "start_time": "2023-08-30T22:44:51.914164",
     "status": "completed"
    },
    "tags": []
   },
   "outputs": [
    {
     "name": "stdout",
     "output_type": "stream",
     "text": [
      "Train dataset missing values:\n",
      "\n"
     ]
    },
    {
     "data": {
      "text/plain": [
       "movieid                  0\n",
       "reviewerName             0\n",
       "isFrequentReviewer       0\n",
       "reviewText            6447\n",
       "sentiment                0\n",
       "dtype: int64"
      ]
     },
     "execution_count": 13,
     "metadata": {},
     "output_type": "execute_result"
    }
   ],
   "source": [
    "# Check for missing values\n",
    "print(\"Train dataset missing values:\\n\")\n",
    "train_data.isnull().sum()\n"
   ]
  },
  {
   "cell_type": "code",
   "execution_count": 14,
   "id": "cc08b3fc",
   "metadata": {
    "execution": {
     "iopub.execute_input": "2023-08-30T22:44:52.091238Z",
     "iopub.status.busy": "2023-08-30T22:44:52.090844Z",
     "iopub.status.idle": "2023-08-30T22:44:52.128667Z",
     "shell.execute_reply": "2023-08-30T22:44:52.127587Z"
    },
    "papermill": {
     "duration": 0.056093,
     "end_time": "2023-08-30T22:44:52.131340",
     "exception": false,
     "start_time": "2023-08-30T22:44:52.075247",
     "status": "completed"
    },
    "tags": []
   },
   "outputs": [
    {
     "name": "stdout",
     "output_type": "stream",
     "text": [
      "Test dataset missing values:\n",
      "\n"
     ]
    },
    {
     "data": {
      "text/plain": [
       "movieid            0\n",
       "reviewerName       0\n",
       "isTopCritic        0\n",
       "reviewText      2510\n",
       "dtype: int64"
      ]
     },
     "execution_count": 14,
     "metadata": {},
     "output_type": "execute_result"
    }
   ],
   "source": [
    "print(\"Test dataset missing values:\\n\")\n",
    "test_data.isnull().sum()"
   ]
  },
  {
   "cell_type": "code",
   "execution_count": 15,
   "id": "71a16ec3",
   "metadata": {
    "execution": {
     "iopub.execute_input": "2023-08-30T22:44:52.160507Z",
     "iopub.status.busy": "2023-08-30T22:44:52.160146Z",
     "iopub.status.idle": "2023-08-30T22:44:52.397323Z",
     "shell.execute_reply": "2023-08-30T22:44:52.395843Z"
    },
    "papermill": {
     "duration": 0.253986,
     "end_time": "2023-08-30T22:44:52.399297",
     "exception": false,
     "start_time": "2023-08-30T22:44:52.145311",
     "status": "completed"
    },
    "tags": []
   },
   "outputs": [
    {
     "name": "stdout",
     "output_type": "stream",
     "text": [
      "Movies dataset missing values:\n",
      "\n"
     ]
    },
    {
     "data": {
      "text/plain": [
       "movieid                      0\n",
       "title                        0\n",
       "audienceScore            70010\n",
       "rating                  129267\n",
       "ratingContents          129267\n",
       "releaseDateTheaters     112485\n",
       "releaseDateStreaming     63838\n",
       "runtimeMinutes           13827\n",
       "genre                    11083\n",
       "originalLanguage         13858\n",
       "director                     0\n",
       "boxOffice               128515\n",
       "distributor             120253\n",
       "soundType               127341\n",
       "dtype: int64"
      ]
     },
     "execution_count": 15,
     "metadata": {},
     "output_type": "execute_result"
    }
   ],
   "source": [
    "print(\"Movies dataset missing values:\\n\")\n",
    "movies_data.isnull().sum()"
   ]
  },
  {
   "cell_type": "code",
   "execution_count": 16,
   "id": "cf1ef30a",
   "metadata": {
    "execution": {
     "iopub.execute_input": "2023-08-30T22:44:52.429915Z",
     "iopub.status.busy": "2023-08-30T22:44:52.429588Z",
     "iopub.status.idle": "2023-08-30T22:44:52.435645Z",
     "shell.execute_reply": "2023-08-30T22:44:52.434375Z"
    },
    "papermill": {
     "duration": 0.023802,
     "end_time": "2023-08-30T22:44:52.438026",
     "exception": false,
     "start_time": "2023-08-30T22:44:52.414224",
     "status": "completed"
    },
    "tags": []
   },
   "outputs": [
    {
     "name": "stdout",
     "output_type": "stream",
     "text": [
      "Updated train dataset shape: (162758, 5)\n",
      "Updated test dataset shape: (55315, 4)\n"
     ]
    }
   ],
   "source": [
    "# Check the updated train and test dataset shape\n",
    "print(\"Updated train dataset shape:\", train_data.shape)\n",
    "print(\"Updated test dataset shape:\", test_data.shape)"
   ]
  },
  {
   "cell_type": "code",
   "execution_count": 17,
   "id": "ae344c2d",
   "metadata": {
    "execution": {
     "iopub.execute_input": "2023-08-30T22:44:52.468456Z",
     "iopub.status.busy": "2023-08-30T22:44:52.468028Z",
     "iopub.status.idle": "2023-08-30T22:44:52.916178Z",
     "shell.execute_reply": "2023-08-30T22:44:52.915270Z"
    },
    "papermill": {
     "duration": 0.465522,
     "end_time": "2023-08-30T22:44:52.918183",
     "exception": false,
     "start_time": "2023-08-30T22:44:52.452661",
     "status": "completed"
    },
    "tags": []
   },
   "outputs": [],
   "source": [
    "merged_data = pd.merge(train_data, movies_data, on='movieid', how='left')"
   ]
  },
  {
   "cell_type": "code",
   "execution_count": 18,
   "id": "95be05f3",
   "metadata": {
    "execution": {
     "iopub.execute_input": "2023-08-30T22:44:52.948359Z",
     "iopub.status.busy": "2023-08-30T22:44:52.947953Z",
     "iopub.status.idle": "2023-08-30T22:44:52.957325Z",
     "shell.execute_reply": "2023-08-30T22:44:52.956424Z"
    },
    "papermill": {
     "duration": 0.027123,
     "end_time": "2023-08-30T22:44:52.959748",
     "exception": false,
     "start_time": "2023-08-30T22:44:52.932625",
     "status": "completed"
    },
    "tags": []
   },
   "outputs": [
    {
     "data": {
      "text/plain": [
       "isFrequentReviewer       bool\n",
       "audienceScore         float64\n",
       "runtimeMinutes        float64\n",
       "dtype: object"
      ]
     },
     "execution_count": 18,
     "metadata": {},
     "output_type": "execute_result"
    }
   ],
   "source": [
    "# Check the data types of columns in the merged dataset\n",
    "data_types = merged_data.dtypes\n",
    "\n",
    "# Filter numerical columns\n",
    "numerical_columns = data_types[data_types != 'object']\n",
    "numerical_columns"
   ]
  },
  {
   "cell_type": "code",
   "execution_count": 19,
   "id": "8ca68a44",
   "metadata": {
    "execution": {
     "iopub.execute_input": "2023-08-30T22:44:52.992020Z",
     "iopub.status.busy": "2023-08-30T22:44:52.991125Z",
     "iopub.status.idle": "2023-08-30T22:44:54.065195Z",
     "shell.execute_reply": "2023-08-30T22:44:54.063944Z"
    },
    "papermill": {
     "duration": 1.092818,
     "end_time": "2023-08-30T22:44:54.067564",
     "exception": false,
     "start_time": "2023-08-30T22:44:52.974746",
     "status": "completed"
    },
    "tags": []
   },
   "outputs": [
    {
     "data": {
      "text/plain": [
       "movieid                      0\n",
       "reviewerName                 0\n",
       "isFrequentReviewer           0\n",
       "reviewText               23817\n",
       "sentiment                    0\n",
       "title                        0\n",
       "audienceScore           300829\n",
       "rating                  390791\n",
       "ratingContents          390791\n",
       "releaseDateTheaters     342951\n",
       "releaseDateStreaming    275844\n",
       "runtimeMinutes          222688\n",
       "genre                   217333\n",
       "originalLanguage        220455\n",
       "director                     0\n",
       "boxOffice               380216\n",
       "distributor             355592\n",
       "soundType               415919\n",
       "dtype: int64"
      ]
     },
     "execution_count": 19,
     "metadata": {},
     "output_type": "execute_result"
    }
   ],
   "source": [
    "# Check for missing values in the dataset\n",
    "merged_data.isnull().sum()"
   ]
  },
  {
   "cell_type": "code",
   "execution_count": 20,
   "id": "761aff42",
   "metadata": {
    "execution": {
     "iopub.execute_input": "2023-08-30T22:44:54.099424Z",
     "iopub.status.busy": "2023-08-30T22:44:54.099013Z",
     "iopub.status.idle": "2023-08-30T22:44:55.432596Z",
     "shell.execute_reply": "2023-08-30T22:44:55.431198Z"
    },
    "papermill": {
     "duration": 1.353055,
     "end_time": "2023-08-30T22:44:55.435405",
     "exception": false,
     "start_time": "2023-08-30T22:44:54.082350",
     "status": "completed"
    },
    "tags": []
   },
   "outputs": [],
   "source": [
    "merged_data.dropna(inplace=True)"
   ]
  },
  {
   "cell_type": "code",
   "execution_count": 21,
   "id": "4de43069",
   "metadata": {
    "execution": {
     "iopub.execute_input": "2023-08-30T22:44:55.467657Z",
     "iopub.status.busy": "2023-08-30T22:44:55.467269Z",
     "iopub.status.idle": "2023-08-30T22:44:55.472325Z",
     "shell.execute_reply": "2023-08-30T22:44:55.471345Z"
    },
    "papermill": {
     "duration": 0.023379,
     "end_time": "2023-08-30T22:44:55.474263",
     "exception": false,
     "start_time": "2023-08-30T22:44:55.450884",
     "status": "completed"
    },
    "tags": []
   },
   "outputs": [],
   "source": [
    "X = merged_data['reviewText']\n",
    "y = merged_data['sentiment']"
   ]
  },
  {
   "cell_type": "code",
   "execution_count": 22,
   "id": "66f9156b",
   "metadata": {
    "execution": {
     "iopub.execute_input": "2023-08-30T22:44:55.506274Z",
     "iopub.status.busy": "2023-08-30T22:44:55.505898Z",
     "iopub.status.idle": "2023-08-30T22:44:55.517929Z",
     "shell.execute_reply": "2023-08-30T22:44:55.516870Z"
    },
    "papermill": {
     "duration": 0.030735,
     "end_time": "2023-08-30T22:44:55.520236",
     "exception": false,
     "start_time": "2023-08-30T22:44:55.489501",
     "status": "completed"
    },
    "tags": []
   },
   "outputs": [
    {
     "data": {
      "text/plain": [
       "POSITIVE    38947\n",
       "NEGATIVE    24974\n",
       "Name: sentiment, dtype: int64"
      ]
     },
     "execution_count": 22,
     "metadata": {},
     "output_type": "execute_result"
    }
   ],
   "source": [
    "# Check the distribution of sentiment classes\n",
    "merged_data['sentiment'].value_counts()"
   ]
  },
  {
   "cell_type": "code",
   "execution_count": 23,
   "id": "5b3a8419",
   "metadata": {
    "execution": {
     "iopub.execute_input": "2023-08-30T22:44:55.550942Z",
     "iopub.status.busy": "2023-08-30T22:44:55.550579Z",
     "iopub.status.idle": "2023-08-30T22:44:55.810941Z",
     "shell.execute_reply": "2023-08-30T22:44:55.809858Z"
    },
    "papermill": {
     "duration": 0.278698,
     "end_time": "2023-08-30T22:44:55.813385",
     "exception": false,
     "start_time": "2023-08-30T22:44:55.534687",
     "status": "completed"
    },
    "tags": []
   },
   "outputs": [
    {
     "data": {
      "image/png": "[encoded data removed]",
      "text/plain": [
       "<Figure size 640x480 with 1 Axes>"
      ]
     },
     "metadata": {},
     "output_type": "display_data"
    }
   ],
   "source": [
    "# Plot the distribution of sentiment classes\n",
    "merged_data['sentiment'].value_counts().plot(kind='bar')\n",
    "plt.xlabel('Sentiment')\n",
    "plt.ylabel('Count')\n",
    "plt.title('Distribution of Sentiment Classes')\n",
    "plt.show()"
   ]
  },
  {
   "cell_type": "code",
   "execution_count": 24,
   "id": "889fa641",
   "metadata": {
    "execution": {
     "iopub.execute_input": "2023-08-30T22:44:55.845061Z",
     "iopub.status.busy": "2023-08-30T22:44:55.844673Z",
     "iopub.status.idle": "2023-08-30T22:44:56.080454Z",
     "shell.execute_reply": "2023-08-30T22:44:56.079306Z"
    },
    "papermill": {
     "duration": 0.253671,
     "end_time": "2023-08-30T22:44:56.082339",
     "exception": false,
     "start_time": "2023-08-30T22:44:55.828668",
     "status": "completed"
    },
    "tags": []
   },
   "outputs": [
    {
     "data": {
      "image/png": "[encoded data removed]",
      "text/plain": [
       "<Figure size 640x480 with 1 Axes>"
      ]
     },
     "metadata": {},
     "output_type": "display_data"
    }
   ],
   "source": [
    "# Define a color palette for the plot\n",
    "colors = ['#1f77b4', '#ff7f0e', '#2ca02c', '#d62728']\n",
    "\n",
    "# Plot the distribution of sentiment classes\n",
    "sentiment_counts = merged_data['sentiment'].value_counts()\n",
    "ax = sentiment_counts.plot(kind='bar', color=colors, edgecolor='black', linewidth=1)\n",
    "\n",
    "# Add labels to the bars\n",
    "for i, count in enumerate(sentiment_counts):\n",
    "    plt.text(i, count, str(count), ha='center', va='bottom', fontsize=12, weight='bold')\n",
    "\n",
    "plt.xlabel('Sentiment')\n",
    "plt.ylabel('Count')\n",
    "plt.title('Distribution of Sentiment Classes')\n",
    "\n",
    "\n",
    "\n",
    "# Rotate the x-axis labels for better readability\n",
    "plt.xticks(rotation=0)\n",
    "\n",
    "plt.tight_layout()\n",
    "plt.show()\n"
   ]
  },
  {
   "cell_type": "code",
   "execution_count": 25,
   "id": "6d399931",
   "metadata": {
    "execution": {
     "iopub.execute_input": "2023-08-30T22:44:56.114849Z",
     "iopub.status.busy": "2023-08-30T22:44:56.114529Z",
     "iopub.status.idle": "2023-08-30T22:44:56.326912Z",
     "shell.execute_reply": "2023-08-30T22:44:56.325745Z"
    },
    "papermill": {
     "duration": 0.232328,
     "end_time": "2023-08-30T22:44:56.330143",
     "exception": false,
     "start_time": "2023-08-30T22:44:56.097815",
     "status": "completed"
    },
    "tags": []
   },
   "outputs": [
    {
     "data": {
      "image/png": "[encoded data removed]",
      "text/plain": [
       "<Figure size 1000x600 with 1 Axes>"
      ]
     },
     "metadata": {},
     "output_type": "display_data"
    }
   ],
   "source": [
    "plt.figure(figsize=(10, 6))\n",
    "\n",
    "# Create a box plot\n",
    "sns.boxplot(data=merged_data, x='sentiment', y='audienceScore', palette='coolwarm', order = ['POSITIVE', 'NEGATIVE'])\n",
    "\n",
    "# Set the labels for the x and y-axis and improve font size\n",
    "plt.xlabel('Sentiment', fontsize=14)\n",
    "plt.ylabel('Audience Score', fontsize=14)\n",
    "\n",
    "plt.title('Box Plot of Audience Score by Sentiment', fontsize=16)\n",
    "\n",
    "# Add grid lines\n",
    "plt.grid(axis='y', linestyle='--', alpha=0.7)\n",
    "\n",
    "plt.show()"
   ]
  },
  {
   "cell_type": "code",
   "execution_count": 26,
   "id": "bcb77432",
   "metadata": {
    "execution": {
     "iopub.execute_input": "2023-08-30T22:44:56.363181Z",
     "iopub.status.busy": "2023-08-30T22:44:56.362795Z",
     "iopub.status.idle": "2023-08-30T22:44:56.650948Z",
     "shell.execute_reply": "2023-08-30T22:44:56.649760Z"
    },
    "papermill": {
     "duration": 0.306917,
     "end_time": "2023-08-30T22:44:56.652840",
     "exception": false,
     "start_time": "2023-08-30T22:44:56.345923",
     "status": "completed"
    },
    "tags": []
   },
   "outputs": [
    {
     "data": {
      "image/png": "[encoded data removed]",
      "text/plain": [
       "<Figure size 1200x1000 with 2 Axes>"
      ]
     },
     "metadata": {},
     "output_type": "display_data"
    }
   ],
   "source": [
    "# Encode the sentiment labels to numerical values\n",
    "sentiment_mapping = {'POSITIVE': 1, 'NEGATIVE': 0}\n",
    "merged_data['sentiment_encoded'] = merged_data['sentiment'].map(sentiment_mapping)\n",
    "\n",
    "# Select the numerical columns from the merged dataset\n",
    "numerical_columns = merged_data.select_dtypes(include=['int64', 'float64'])\n",
    "\n",
    "# Calculate the correlation matrix\n",
    "correlation_matrix = numerical_columns.corr()\n",
    "\n",
    "# Append the sentiment_encoded column to the correlation matrix\n",
    "correlation_matrix['sentiment_encoded'] = correlation_matrix['sentiment_encoded'].fillna(1.0)\n",
    "correlation_matrix.loc['sentiment_encoded'] = correlation_matrix['sentiment_encoded']\n",
    "\n",
    "# Create a heatmap to visualize the correlations\n",
    "plt.figure(figsize=(12, 10))\n",
    "sns.heatmap(correlation_matrix, annot=True, cmap='coolwarm', fmt=\".2f\", linewidths=0.5)\n",
    "plt.title(\"Correlation Heatmap of Numerical Features including Sentiment\")\n",
    "plt.show()"
   ]
  },
  {
   "cell_type": "code",
   "execution_count": 27,
   "id": "41497739",
   "metadata": {
    "execution": {
     "iopub.execute_input": "2023-08-30T22:44:56.687604Z",
     "iopub.status.busy": "2023-08-30T22:44:56.687222Z",
     "iopub.status.idle": "2023-08-30T22:44:56.764898Z",
     "shell.execute_reply": "2023-08-30T22:44:56.763662Z"
    },
    "papermill": {
     "duration": 0.09772,
     "end_time": "2023-08-30T22:44:56.767140",
     "exception": false,
     "start_time": "2023-08-30T22:44:56.669420",
     "status": "completed"
    },
    "tags": []
   },
   "outputs": [
    {
     "data": {
      "text/plain": [
       "POSITIVE    38947\n",
       "NEGATIVE    38947\n",
       "Name: sentiment, dtype: int64"
      ]
     },
     "execution_count": 27,
     "metadata": {},
     "output_type": "execute_result"
    }
   ],
   "source": [
    "# Separate the majority and minority classes\n",
    "majority_class = merged_data[merged_data['sentiment'] == 'POSITIVE']\n",
    "minority_class = merged_data[merged_data['sentiment'] == 'NEGATIVE']\n",
    "\n",
    "# Upsample the minority class to match the size of the majority class\n",
    "minority_class_upsampled = resample(minority_class, replace=True, n_samples=len(majority_class), random_state=42)\n",
    "\n",
    "# Combine the upsampled minority class with the majority class\n",
    "balanced_data = pd.concat([majority_class, minority_class_upsampled])\n",
    "# Check the balanced class distribution\n",
    "balanced_data['sentiment'].value_counts()"
   ]
  },
  {
   "cell_type": "code",
   "execution_count": 28,
   "id": "bba163ba",
   "metadata": {
    "execution": {
     "iopub.execute_input": "2023-08-30T22:44:56.801375Z",
     "iopub.status.busy": "2023-08-30T22:44:56.800977Z",
     "iopub.status.idle": "2023-08-30T22:44:57.032266Z",
     "shell.execute_reply": "2023-08-30T22:44:57.031587Z"
    },
    "papermill": {
     "duration": 0.250406,
     "end_time": "2023-08-30T22:44:57.033891",
     "exception": false,
     "start_time": "2023-08-30T22:44:56.783485",
     "status": "completed"
    },
    "tags": []
   },
   "outputs": [
    {
     "data": {
      "image/png": "[encoded data removed]",
      "text/plain": [
       "<Figure size 640x480 with 1 Axes>"
      ]
     },
     "metadata": {},
     "output_type": "display_data"
    }
   ],
   "source": [
    "# Plot the distribution of sentiment classes\n",
    "sentiment_counts = balanced_data['sentiment'].value_counts()\n",
    "ax = sentiment_counts.plot(kind='bar', color=colors, edgecolor='black', linewidth=1)\n",
    "\n",
    "# Add labels to the bars\n",
    "for i, count in enumerate(sentiment_counts):\n",
    "    plt.text(i, count, str(count), ha='center', va='bottom', fontsize=12, weight='bold')\n",
    "\n",
    "plt.xlabel('Sentiment')\n",
    "plt.ylabel('Count')\n",
    "plt.title('Distribution of Sentiment Classes')\n",
    "\n",
    "\n",
    "\n",
    "# Rotate the x-axis labels for better readability\n",
    "plt.xticks(rotation=0)\n",
    "\n",
    "plt.tight_layout()\n",
    "plt.show()\n"
   ]
  },
  {
   "cell_type": "code",
   "execution_count": 29,
   "id": "e9a4d1a9",
   "metadata": {
    "execution": {
     "iopub.execute_input": "2023-08-30T22:44:57.070100Z",
     "iopub.status.busy": "2023-08-30T22:44:57.069424Z",
     "iopub.status.idle": "2023-08-30T22:44:57.074408Z",
     "shell.execute_reply": "2023-08-30T22:44:57.073226Z"
    },
    "papermill": {
     "duration": 0.024926,
     "end_time": "2023-08-30T22:44:57.076306",
     "exception": false,
     "start_time": "2023-08-30T22:44:57.051380",
     "status": "completed"
    },
    "tags": []
   },
   "outputs": [],
   "source": [
    "X = balanced_data['reviewText']\n",
    "y = balanced_data['sentiment']"
   ]
  },
  {
   "cell_type": "code",
   "execution_count": 30,
   "id": "b53ca3df",
   "metadata": {
    "execution": {
     "iopub.execute_input": "2023-08-30T22:44:57.112088Z",
     "iopub.status.busy": "2023-08-30T22:44:57.111441Z",
     "iopub.status.idle": "2023-08-30T22:44:57.130579Z",
     "shell.execute_reply": "2023-08-30T22:44:57.129400Z"
    },
    "papermill": {
     "duration": 0.039824,
     "end_time": "2023-08-30T22:44:57.132904",
     "exception": false,
     "start_time": "2023-08-30T22:44:57.093080",
     "status": "completed"
    },
    "tags": []
   },
   "outputs": [],
   "source": [
    "X_train, X_val, y_train, y_val = train_test_split(X, y, test_size=0.2, random_state=42)"
   ]
  },
  {
   "cell_type": "code",
   "execution_count": 31,
   "id": "107a8fdf",
   "metadata": {
    "execution": {
     "iopub.execute_input": "2023-08-30T22:44:57.167789Z",
     "iopub.status.busy": "2023-08-30T22:44:57.167461Z",
     "iopub.status.idle": "2023-08-30T22:44:58.076871Z",
     "shell.execute_reply": "2023-08-30T22:44:58.075664Z"
    },
    "papermill": {
     "duration": 0.929513,
     "end_time": "2023-08-30T22:44:58.079142",
     "exception": false,
     "start_time": "2023-08-30T22:44:57.149629",
     "status": "completed"
    },
    "tags": []
   },
   "outputs": [],
   "source": [
    "import regex as re\n",
    "\n",
    "# Convert text to lowercase\n",
    "X_train = X_train.astype(str).str.lower()\n",
    "X_val = X_val.astype(str).str.lower()\n",
    "\n",
    "# Remove punctuation\n",
    "X_train = X_train.apply(lambda x: re.sub(r'[^\\w\\s]', '', x))\n",
    "X_val = X_val.apply(lambda x: re.sub(r'[^\\w\\s]', '', x))"
   ]
  },
  {
   "cell_type": "code",
   "execution_count": 32,
   "id": "0faf6581",
   "metadata": {
    "execution": {
     "iopub.execute_input": "2023-08-30T22:44:58.116200Z",
     "iopub.status.busy": "2023-08-30T22:44:58.115781Z",
     "iopub.status.idle": "2023-08-30T22:44:59.574662Z",
     "shell.execute_reply": "2023-08-30T22:44:59.573401Z"
    },
    "papermill": {
     "duration": 1.479651,
     "end_time": "2023-08-30T22:44:59.576910",
     "exception": false,
     "start_time": "2023-08-30T22:44:58.097259",
     "status": "completed"
    },
    "tags": []
   },
   "outputs": [],
   "source": [
    "vectorizer = CountVectorizer()\n",
    "X_train = vectorizer.fit_transform(X_train)\n",
    "X_val = vectorizer.transform(X_val)"
   ]
  },
  {
   "cell_type": "code",
   "execution_count": 33,
   "id": "2596bce2",
   "metadata": {
    "execution": {
     "iopub.execute_input": "2023-08-30T22:44:59.622715Z",
     "iopub.status.busy": "2023-08-30T22:44:59.622180Z",
     "iopub.status.idle": "2023-08-30T22:44:59.626526Z",
     "shell.execute_reply": "2023-08-30T22:44:59.625016Z"
    },
    "papermill": {
     "duration": 0.030011,
     "end_time": "2023-08-30T22:44:59.628871",
     "exception": false,
     "start_time": "2023-08-30T22:44:59.598860",
     "status": "completed"
    },
    "tags": []
   },
   "outputs": [],
   "source": [
    "# vectorizer = TfidfVectorizer(stop_words='english', max_features=5000)\n",
    "# X_train = vectorizer.fit_transform(X_train)\n",
    "# X_val = vectorizer.transform(X_val)"
   ]
  },
  {
   "cell_type": "code",
   "execution_count": 34,
   "id": "ada1391b",
   "metadata": {
    "execution": {
     "iopub.execute_input": "2023-08-30T22:44:59.665746Z",
     "iopub.status.busy": "2023-08-30T22:44:59.664969Z",
     "iopub.status.idle": "2023-08-30T22:44:59.687958Z",
     "shell.execute_reply": "2023-08-30T22:44:59.687215Z"
    },
    "papermill": {
     "duration": 0.04448,
     "end_time": "2023-08-30T22:44:59.690642",
     "exception": false,
     "start_time": "2023-08-30T22:44:59.646162",
     "status": "completed"
    },
    "tags": []
   },
   "outputs": [],
   "source": [
    "label_encoder = LabelEncoder()\n",
    "y_train = label_encoder.fit_transform(y_train)\n",
    "y_val = label_encoder.transform(y_val)"
   ]
  },
  {
   "cell_type": "code",
   "execution_count": 35,
   "id": "227de79b",
   "metadata": {
    "execution": {
     "iopub.execute_input": "2023-08-30T22:44:59.737690Z",
     "iopub.status.busy": "2023-08-30T22:44:59.737029Z",
     "iopub.status.idle": "2023-08-30T22:44:59.742284Z",
     "shell.execute_reply": "2023-08-30T22:44:59.741470Z"
    },
    "papermill": {
     "duration": 0.029697,
     "end_time": "2023-08-30T22:44:59.744669",
     "exception": false,
     "start_time": "2023-08-30T22:44:59.714972",
     "status": "completed"
    },
    "tags": []
   },
   "outputs": [
    {
     "name": "stdout",
     "output_type": "stream",
     "text": [
      "X_train shape: (62315, 49542)\n",
      "X_val shape: (15579, 49542)\n",
      "y_train shape: (62315,)\n",
      "y_val shape: (15579,)\n"
     ]
    }
   ],
   "source": [
    "# Print the shapes of the preprocessed data\n",
    "print(\"X_train shape:\", X_train.shape)\n",
    "print(\"X_val shape:\", X_val.shape)\n",
    "print(\"y_train shape:\", y_train.shape)\n",
    "print(\"y_val shape:\", y_val.shape)"
   ]
  },
  {
   "cell_type": "markdown",
   "id": "04f8d17b",
   "metadata": {
    "papermill": {
     "duration": 0.016894,
     "end_time": "2023-08-30T22:44:59.779079",
     "exception": false,
     "start_time": "2023-08-30T22:44:59.762185",
     "status": "completed"
    },
    "tags": []
   },
   "source": []
  },
  {
   "cell_type": "markdown",
   "id": "cd3e4998",
   "metadata": {
    "papermill": {
     "duration": 0.019408,
     "end_time": "2023-08-30T22:44:59.815842",
     "exception": false,
     "start_time": "2023-08-30T22:44:59.796434",
     "status": "completed"
    },
    "tags": []
   },
   "source": [
    "# Model Building"
   ]
  },
  {
   "cell_type": "code",
   "execution_count": 36,
   "id": "939d5709",
   "metadata": {
    "execution": {
     "iopub.execute_input": "2023-08-30T22:44:59.853419Z",
     "iopub.status.busy": "2023-08-30T22:44:59.852781Z",
     "iopub.status.idle": "2023-08-30T22:44:59.856869Z",
     "shell.execute_reply": "2023-08-30T22:44:59.855982Z"
    },
    "papermill": {
     "duration": 0.025209,
     "end_time": "2023-08-30T22:44:59.858757",
     "exception": false,
     "start_time": "2023-08-30T22:44:59.833548",
     "status": "completed"
    },
    "tags": []
   },
   "outputs": [],
   "source": [
    "# # Train a LightGBM model\n",
    "# lgb_model = LGBMClassifier(random_state=42)\n",
    "# lgb_model.fit(X_train, y_train)\n",
    "\n",
    "# # Predictions on validation data\n",
    "# lgb_preds = lgb_model.predict(X_val)\n",
    "\n",
    "# # Evaluate the LightGBM model\n",
    "# lgb_accuracy = accuracy_score(y_val, lgb_preds)\n",
    "# print(\"Accuracy (LightGBM):\", lgb_accuracy)"
   ]
  },
  {
   "cell_type": "code",
   "execution_count": 37,
   "id": "26816476",
   "metadata": {
    "execution": {
     "iopub.execute_input": "2023-08-30T22:44:59.896878Z",
     "iopub.status.busy": "2023-08-30T22:44:59.896354Z",
     "iopub.status.idle": "2023-08-30T22:46:12.368184Z",
     "shell.execute_reply": "2023-08-30T22:46:12.367461Z"
    },
    "papermill": {
     "duration": 72.516529,
     "end_time": "2023-08-30T22:46:12.392900",
     "exception": false,
     "start_time": "2023-08-30T22:44:59.876371",
     "status": "completed"
    },
    "tags": []
   },
   "outputs": [
    {
     "name": "stdout",
     "output_type": "stream",
     "text": [
      "Accuracy (Logistic Regression): 0.847230245843764\n",
      "F1 Score (Logistic Regression): 0.8468989683830612\n"
     ]
    },
    {
     "data": {
      "text/html": [
       "<style>#sk-container-id-1 {color: black;background-color: white;}#sk-container-id-1 pre{padding: 0;}#sk-container-id-1 div.sk-toggleable {background-color: white;}#sk-container-id-1 label.sk-toggleable__label {cursor: pointer;display: block;width: 100%;margin-bottom: 0;padding: 0.3em;box-sizing: border-box;text-align: center;}#sk-container-id-1 label.sk-toggleable__label-arrow:before {content: \"▸\";float: left;margin-right: 0.25em;color: #696969;}#sk-container-id-1 label.sk-toggleable__label-arrow:hover:before {color: black;}#sk-container-id-1 div.sk-estimator:hover label.sk-toggleable__label-arrow:before {color: black;}#sk-container-id-1 div.sk-toggleable__content {max-height: 0;max-width: 0;overflow: hidden;text-align: left;background-color: #f0f8ff;}#sk-container-id-1 div.sk-toggleable__content pre {margin: 0.2em;color: black;border-radius: 0.25em;background-color: #f0f8ff;}#sk-container-id-1 input.sk-toggleable__control:checked~div.sk-toggleable__content {max-height: 200px;max-width: 100%;overflow: auto;}#sk-container-id-1 input.sk-toggleable__control:checked~label.sk-toggleable__label-arrow:before {content: \"▾\";}#sk-container-id-1 div.sk-estimator input.sk-toggleable__control:checked~label.sk-toggleable__label {background-color: #d4ebff;}#sk-container-id-1 div.sk-label input.sk-toggleable__control:checked~label.sk-toggleable__label {background-color: #d4ebff;}#sk-container-id-1 input.sk-hidden--visually {border: 0;clip: rect(1px 1px 1px 1px);clip: rect(1px, 1px, 1px, 1px);height: 1px;margin: -1px;overflow: hidden;padding: 0;position: absolute;width: 1px;}#sk-container-id-1 div.sk-estimator {font-family: monospace;background-color: #f0f8ff;border: 1px dotted black;border-radius: 0.25em;box-sizing: border-box;margin-bottom: 0.5em;}#sk-container-id-1 div.sk-estimator:hover {background-color: #d4ebff;}#sk-container-id-1 div.sk-parallel-item::after {content: \"\";width: 100%;border-bottom: 1px solid gray;flex-grow: 1;}#sk-container-id-1 div.sk-label:hover label.sk-toggleable__label {background-color: #d4ebff;}#sk-container-id-1 div.sk-serial::before {content: \"\";position: absolute;border-left: 1px solid gray;box-sizing: border-box;top: 0;bottom: 0;left: 50%;z-index: 0;}#sk-container-id-1 div.sk-serial {display: flex;flex-direction: column;align-items: center;background-color: white;padding-right: 0.2em;padding-left: 0.2em;position: relative;}#sk-container-id-1 div.sk-item {position: relative;z-index: 1;}#sk-container-id-1 div.sk-parallel {display: flex;align-items: stretch;justify-content: center;background-color: white;position: relative;}#sk-container-id-1 div.sk-item::before, #sk-container-id-1 div.sk-parallel-item::before {content: \"\";position: absolute;border-left: 1px solid gray;box-sizing: border-box;top: 0;bottom: 0;left: 50%;z-index: -1;}#sk-container-id-1 div.sk-parallel-item {display: flex;flex-direction: column;z-index: 1;position: relative;background-color: white;}#sk-container-id-1 div.sk-parallel-item:first-child::after {align-self: flex-end;width: 50%;}#sk-container-id-1 div.sk-parallel-item:last-child::after {align-self: flex-start;width: 50%;}#sk-container-id-1 div.sk-parallel-item:only-child::after {width: 0;}#sk-container-id-1 div.sk-dashed-wrapped {border: 1px dashed gray;margin: 0 0.4em 0.5em 0.4em;box-sizing: border-box;padding-bottom: 0.4em;background-color: white;}#sk-container-id-1 div.sk-label label {font-family: monospace;font-weight: bold;display: inline-block;line-height: 1.2em;}#sk-container-id-1 div.sk-label-container {text-align: center;}#sk-container-id-1 div.sk-container {/* jupyter's `normalize.less` sets `[hidden] { display: none; }` but bootstrap.min.css set `[hidden] { display: none !important; }` so we also need the `!important` here to be able to override the default hidden behavior on the sphinx rendered scikit-learn.org. See: https://github.com/scikit-learn/scikit-learn/issues/21755 */display: inline-block !important;position: relative;}#sk-container-id-1 div.sk-text-repr-fallback {display: none;}</style><div id=\"sk-container-id-1\" class=\"sk-top-container\"><div class=\"sk-text-repr-fallback\"><pre>LogisticRegression(C=10.0, max_iter=1000, solver=&#x27;liblinear&#x27;)</pre><b>In a Jupyter environment, please rerun this cell to show the HTML representation or trust the notebook. <br />On GitHub, the HTML representation is unable to render, please try loading this page with nbviewer.org.</b></div><div class=\"sk-container\" hidden><div class=\"sk-item\"><div class=\"sk-estimator sk-toggleable\"><input class=\"sk-toggleable__control sk-hidden--visually\" id=\"sk-estimator-id-1\" type=\"checkbox\" checked><label for=\"sk-estimator-id-1\" class=\"sk-toggleable__label sk-toggleable__label-arrow\">LogisticRegression</label><div class=\"sk-toggleable__content\"><pre>LogisticRegression(C=10.0, max_iter=1000, solver=&#x27;liblinear&#x27;)</pre></div></div></div></div></div>"
      ],
      "text/plain": [
       "LogisticRegression(C=10.0, max_iter=1000, solver='liblinear')"
      ]
     },
     "execution_count": 37,
     "metadata": {},
     "output_type": "execute_result"
    }
   ],
   "source": [
    "logistic_regression_model = LogisticRegression(solver='liblinear', max_iter=1000)\n",
    "\n",
    "param_grid = {\n",
    "    'C': [0.01, 0.1, 1.0, 10.0],\n",
    "    'penalty': ['l1', 'l2'],\n",
    "}\n",
    "\n",
    "grid_search = GridSearchCV(logistic_regression_model, param_grid, cv=5)\n",
    "grid_search.fit(X_train, y_train)\n",
    "\n",
    "best_logistic_regression_model = grid_search.best_estimator_\n",
    "\n",
    "logistic_regression_preds = best_logistic_regression_model.predict(X_val)\n",
    "\n",
    "logistic_regression_accuracy = accuracy_score(y_val, logistic_regression_preds)\n",
    "print(\"Accuracy (Logistic Regression):\", logistic_regression_accuracy)\n",
    "\n",
    "\n",
    "logistic_regression_f1 = f1_score(y_val, logistic_regression_preds, average='weighted')\n",
    "print(\"F1 Score (Logistic Regression):\", logistic_regression_f1)\n",
    "\n",
    "best_logistic_regression_model\n"
   ]
  },
  {
   "cell_type": "code",
   "execution_count": 38,
   "id": "e19db898",
   "metadata": {
    "execution": {
     "iopub.execute_input": "2023-08-30T22:46:12.439412Z",
     "iopub.status.busy": "2023-08-30T22:46:12.439025Z",
     "iopub.status.idle": "2023-08-30T22:46:15.017319Z",
     "shell.execute_reply": "2023-08-30T22:46:15.016418Z"
    },
    "papermill": {
     "duration": 2.604248,
     "end_time": "2023-08-30T22:46:15.019407",
     "exception": false,
     "start_time": "2023-08-30T22:46:12.415159",
     "status": "completed"
    },
    "tags": []
   },
   "outputs": [],
   "source": [
    "# Apply TruncatedSVD for dimensionality reduction\n",
    "svd = TruncatedSVD(n_components=50)\n",
    "scaler = StandardScaler(with_mean=False)\n",
    "\n",
    "X_train_scaled = scaler.fit_transform(X_train)\n",
    "X_val_scaled = scaler.transform(X_val)\n",
    "\n",
    "X_train_svd = svd.fit_transform(X_train_scaled)\n",
    "X_val_svd = svd.transform(X_val_scaled)"
   ]
  },
  {
   "cell_type": "code",
   "execution_count": 39,
   "id": "e7170bad",
   "metadata": {
    "execution": {
     "iopub.execute_input": "2023-08-30T22:46:15.054830Z",
     "iopub.status.busy": "2023-08-30T22:46:15.054511Z",
     "iopub.status.idle": "2023-08-30T22:46:17.383505Z",
     "shell.execute_reply": "2023-08-30T22:46:17.382428Z"
    },
    "papermill": {
     "duration": 2.349192,
     "end_time": "2023-08-30T22:46:17.385547",
     "exception": false,
     "start_time": "2023-08-30T22:46:15.036355",
     "status": "completed"
    },
    "tags": []
   },
   "outputs": [
    {
     "name": "stdout",
     "output_type": "stream",
     "text": [
      "Accuracy (KNN): 0.6280890942936004\n",
      "F1 Score (KNN): 0.6279889487792347\n"
     ]
    }
   ],
   "source": [
    "# # K-Nearest Neighbors (KNN)\n",
    "# knn_params = {\n",
    "#     'n_neighbors': [3, 5, 7, 9],\n",
    "# }\n",
    "\n",
    "# grid_search_knn = GridSearchCV(knn_model, knn_params, cv=5)\n",
    "# grid_search_knn.fit(X_train_svd, y_train)\n",
    "# best_knn_model = grid_search_knn.best_estimator_\n",
    "\n",
    "# best_knn_preds = best_knn_model.predict(X_val_svd)\n",
    "# best_knn_accuracy = accuracy_score(y_val, best_knn_preds)\n",
    "\n",
    "\n",
    "# print(\"\\nBest KNN Model:\")\n",
    "# print(best_knn_model)\n",
    "# print(\"Accuracy:\", best_knn_accuracy)\n",
    "\n",
    "knn_model = KNeighborsClassifier(n_neighbors=5)\n",
    "knn_model.fit(X_train_svd, y_train)\n",
    "knn_preds = knn_model.predict(X_val_svd)\n",
    "knn_accuracy = accuracy_score(y_val, knn_preds)\n",
    "print(\"Accuracy (KNN):\", knn_accuracy)\n",
    "knn_f1 = f1_score(y_val, knn_preds, average='weighted')\n",
    "print(\"F1 Score (KNN):\", knn_f1)"
   ]
  },
  {
   "cell_type": "code",
   "execution_count": 40,
   "id": "6e8ed560",
   "metadata": {
    "execution": {
     "iopub.execute_input": "2023-08-30T22:46:17.423702Z",
     "iopub.status.busy": "2023-08-30T22:46:17.423353Z",
     "iopub.status.idle": "2023-08-30T22:46:17.427978Z",
     "shell.execute_reply": "2023-08-30T22:46:17.426930Z"
    },
    "papermill": {
     "duration": 0.025403,
     "end_time": "2023-08-30T22:46:17.430115",
     "exception": false,
     "start_time": "2023-08-30T22:46:17.404712",
     "status": "completed"
    },
    "tags": []
   },
   "outputs": [],
   "source": [
    "# svm_params = {\n",
    "#     'C': [0.1, 1.0, 10.0],\n",
    "#     'kernel': ['linear', 'rbf'],\n",
    "# }\n",
    "\n",
    "# grid_search_svm = GridSearchCV(svm_model, svm_params, cv=5)\n",
    "# grid_search_svm.fit(X_train_svd, y_train)\n",
    "# best_svm_model = grid_search_svm.best_estimator_\n",
    "\n",
    "# best_svm_preds = best_svm_model.predict(X_val_svd)\n",
    "# best_svm_accuracy = accuracy_score(y_val, best_svm_preds)\n",
    "\n",
    "# print(\"\\nBest SVM Model:\")\n",
    "# print(best_svm_model)\n",
    "# print(\"Accuracy:\", best_svm_accuracy)\n",
    "\n",
    "\n",
    "# # # Support Vector Machine (SVM)\n",
    "# # svm_model = SVC(kernel='linear', C=1.0)\n",
    "# # svm_model.fit(X_train_svd, y_train)\n",
    "# # svm_preds = svm_model.predict(X_val_svd)\n",
    "# # svm_accuracy = accuracy_score(y_val, svm_preds)\n",
    "# # print(\"Accuracy (SVM):\", svm_accuracy)"
   ]
  },
  {
   "cell_type": "code",
   "execution_count": 41,
   "id": "c4387bb0",
   "metadata": {
    "execution": {
     "iopub.execute_input": "2023-08-30T22:46:17.466927Z",
     "iopub.status.busy": "2023-08-30T22:46:17.466613Z",
     "iopub.status.idle": "2023-08-30T22:46:54.490313Z",
     "shell.execute_reply": "2023-08-30T22:46:54.488780Z"
    },
    "papermill": {
     "duration": 37.061819,
     "end_time": "2023-08-30T22:46:54.509602",
     "exception": false,
     "start_time": "2023-08-30T22:46:17.447783",
     "status": "completed"
    },
    "tags": []
   },
   "outputs": [
    {
     "name": "stdout",
     "output_type": "stream",
     "text": [
      "Accuracy (CART): 0.8046729571859554\n"
     ]
    }
   ],
   "source": [
    "from sklearn.tree import DecisionTreeClassifier\n",
    "\n",
    "# Decision Tree (CART)\n",
    "cart_model = DecisionTreeClassifier(random_state=42)\n",
    "cart_model.fit(X_train, y_train)\n",
    "cart_preds = cart_model.predict(X_val)\n",
    "\n",
    "cart_accuracy = accuracy_score(y_val, cart_preds)\n",
    "print(\"Accuracy (CART):\", cart_accuracy)"
   ]
  },
  {
   "cell_type": "code",
   "execution_count": 42,
   "id": "004e203e",
   "metadata": {
    "execution": {
     "iopub.execute_input": "2023-08-30T22:46:54.545526Z",
     "iopub.status.busy": "2023-08-30T22:46:54.545181Z",
     "iopub.status.idle": "2023-08-30T22:51:47.195032Z",
     "shell.execute_reply": "2023-08-30T22:51:47.193740Z"
    },
    "papermill": {
     "duration": 292.687612,
     "end_time": "2023-08-30T22:51:47.214287",
     "exception": false,
     "start_time": "2023-08-30T22:46:54.526675",
     "status": "completed"
    },
    "tags": []
   },
   "outputs": [
    {
     "name": "stdout",
     "output_type": "stream",
     "text": [
      "Accuracy (Bagging): 0.8118621220874254\n",
      "F1 Score (Bagging): 0.8105381259789316\n"
     ]
    }
   ],
   "source": [
    "\n",
    "bagging_model = BaggingClassifier(estimator=DecisionTreeClassifier(random_state=42), n_estimators=10)\n",
    "bagging_model.fit(X_train, y_train)\n",
    "bagging_preds = bagging_model.predict(X_val)\n",
    "bagging_accuracy = accuracy_score(y_val, bagging_preds)\n",
    "print(\"Accuracy (Bagging):\", bagging_accuracy)\n",
    "\n",
    "bagging_f1 = f1_score(y_val, bagging_preds, average='weighted')\n",
    "print(\"F1 Score (Bagging):\", bagging_f1)"
   ]
  },
  {
   "cell_type": "code",
   "execution_count": 43,
   "id": "824d09af",
   "metadata": {
    "execution": {
     "iopub.execute_input": "2023-08-30T22:51:47.251204Z",
     "iopub.status.busy": "2023-08-30T22:51:47.250623Z",
     "iopub.status.idle": "2023-08-30T22:58:17.274702Z",
     "shell.execute_reply": "2023-08-30T22:58:17.273273Z"
    },
    "papermill": {
     "duration": 390.061718,
     "end_time": "2023-08-30T22:58:17.293481",
     "exception": false,
     "start_time": "2023-08-30T22:51:47.231763",
     "status": "completed"
    },
    "tags": []
   },
   "outputs": [
    {
     "name": "stdout",
     "output_type": "stream",
     "text": [
      "Accuracy (AdaBoost): 0.8118621220874254\n",
      "F1 Score (AdaBoost): 0.8111190764539612\n"
     ]
    }
   ],
   "source": [
    "# Boosting (AdaBoost)\n",
    "boosting_model = AdaBoostClassifier(estimator=DecisionTreeClassifier(), n_estimators=10)\n",
    "boosting_model.fit(X_train, y_train)\n",
    "boosting_preds = boosting_model.predict(X_val)\n",
    "boosting_accuracy = accuracy_score(y_val, boosting_preds)\n",
    "print(\"Accuracy (AdaBoost):\", boosting_accuracy)\n",
    "\n",
    "boosting_f1 = f1_score(y_val, boosting_preds, average='weighted')\n",
    "print(\"F1 Score (AdaBoost):\", boosting_f1)"
   ]
  },
  {
   "cell_type": "code",
   "execution_count": 44,
   "id": "ffdffa8a",
   "metadata": {
    "execution": {
     "iopub.execute_input": "2023-08-30T22:58:17.333238Z",
     "iopub.status.busy": "2023-08-30T22:58:17.332725Z",
     "iopub.status.idle": "2023-08-30T22:58:22.020791Z",
     "shell.execute_reply": "2023-08-30T22:58:22.020137Z"
    },
    "papermill": {
     "duration": 4.708748,
     "end_time": "2023-08-30T22:58:22.022671",
     "exception": false,
     "start_time": "2023-08-30T22:58:17.313923",
     "status": "completed"
    },
    "tags": []
   },
   "outputs": [
    {
     "name": "stdout",
     "output_type": "stream",
     "text": [
      "Accuracy (Random Forest): 0.72649078888247\n",
      "F1 Score (Random Forest): 0.7264947646630626\n"
     ]
    }
   ],
   "source": [
    "rf_model = RandomForestClassifier(n_estimators=200, max_depth=10, random_state=42)\n",
    "rf_model.fit(X_train, y_train)\n",
    "rf_preds = rf_model.predict(X_val)\n",
    "rf_accuracy = accuracy_score(y_val, rf_preds)\n",
    "print(\"Accuracy (Random Forest):\", rf_accuracy)\n",
    "\n",
    "random_forest_f1 = f1_score(y_val, rf_preds, average='weighted')\n",
    "print(\"F1 Score (Random Forest):\", random_forest_f1)"
   ]
  },
  {
   "cell_type": "code",
   "execution_count": 45,
   "id": "f0c1a311",
   "metadata": {
    "execution": {
     "iopub.execute_input": "2023-08-30T22:58:22.067748Z",
     "iopub.status.busy": "2023-08-30T22:58:22.067134Z",
     "iopub.status.idle": "2023-08-30T22:58:47.829807Z",
     "shell.execute_reply": "2023-08-30T22:58:47.827957Z"
    },
    "papermill": {
     "duration": 25.784861,
     "end_time": "2023-08-30T22:58:47.832442",
     "exception": false,
     "start_time": "2023-08-30T22:58:22.047581",
     "status": "completed"
    },
    "tags": []
   },
   "outputs": [
    {
     "name": "stdout",
     "output_type": "stream",
     "text": [
      "Accuracy (Gradient Boosting): 0.6529302265870723\n",
      "F1 Score (Gradient Boosting): 0.652717926669356\n"
     ]
    }
   ],
   "source": [
    "gb_model = GradientBoostingClassifier(n_estimators=100, learning_rate=0.1, max_depth=3, random_state=42)\n",
    "gb_model.fit(X_train, y_train)\n",
    "gb_preds = gb_model.predict(X_val)\n",
    "gb_accuracy = accuracy_score(y_val, gb_preds)\n",
    "print(\"Accuracy (Gradient Boosting):\", gb_accuracy)\n",
    "\n",
    "gradient_boosting_f1 = f1_score(y_val, gb_preds, average='weighted')\n",
    "print(\"F1 Score (Gradient Boosting):\", gradient_boosting_f1)"
   ]
  },
  {
   "cell_type": "code",
   "execution_count": 46,
   "id": "d5407634",
   "metadata": {
    "execution": {
     "iopub.execute_input": "2023-08-30T22:58:47.872149Z",
     "iopub.status.busy": "2023-08-30T22:58:47.871704Z",
     "iopub.status.idle": "2023-08-30T22:58:47.877610Z",
     "shell.execute_reply": "2023-08-30T22:58:47.876553Z"
    },
    "papermill": {
     "duration": 0.028666,
     "end_time": "2023-08-30T22:58:47.879508",
     "exception": false,
     "start_time": "2023-08-30T22:58:47.850842",
     "status": "completed"
    },
    "tags": []
   },
   "outputs": [],
   "source": [
    "# from sklearn.neural_network import MLPClassifier\n",
    "\n",
    "# # # Multi-Layer Perceptron (MLP)\n",
    "# # mlp_model = MLPClassifier(hidden_layer_sizes=(100,), max_iter=500)\n",
    "# # mlp_model.fit(X_train, y_train)\n",
    "# # mlp_preds = mlp_model.predict(X_val)\n",
    "# # mlp_accuracy = accuracy_score(y_val, mlp_preds)\n",
    "# # print(\"Accuracy (MLP):\", mlp_accuracy)\n",
    "\n",
    "# mlp_params = {\n",
    "#     'hidden_layer_sizes': [(100,), (100, 50), (150, 100)],\n",
    "#     'activation': ['relu', 'tanh'],\n",
    "#     'learning_rate': ['constant', 'invscaling', 'adaptive'],\n",
    "# }\n",
    "\n",
    "# # Create the MLP classifier\n",
    "# mlp_model = MLPClassifier(max_iter=500, random_state=42)\n",
    "\n",
    "\n",
    "# grid_search_mlp = GridSearchCV(mlp_model, mlp_params, cv=5)\n",
    "# grid_search_mlp.fit(X_train, y_train)\n",
    "# best_mlp_model = grid_search_mlp.best_estimator_\n",
    "\n",
    "\n",
    "# # Evaluate the best MLP model on the validation set\n",
    "# best_mlp_preds = best_mlp_model.predict(X_val)\n",
    "# best_mlp_accuracy = accuracy_score(y_val, best_mlp_preds)\n",
    "\n",
    "# # Print the best hyperparameters and accuracy\n",
    "# print(\"Best MLP Model:\")\n",
    "# print(best_mlp_model)\n",
    "# print(\"Accuracy:\", best_mlp_accuracy)"
   ]
  },
  {
   "cell_type": "code",
   "execution_count": 47,
   "id": "829fc14e",
   "metadata": {
    "execution": {
     "iopub.execute_input": "2023-08-30T22:58:47.916490Z",
     "iopub.status.busy": "2023-08-30T22:58:47.916169Z",
     "iopub.status.idle": "2023-08-31T00:01:42.061411Z",
     "shell.execute_reply": "2023-08-31T00:01:42.057705Z"
    },
    "papermill": {
     "duration": 3774.188185,
     "end_time": "2023-08-31T00:01:42.085640",
     "exception": false,
     "start_time": "2023-08-30T22:58:47.897455",
     "status": "completed"
    },
    "tags": []
   },
   "outputs": [
    {
     "name": "stdout",
     "output_type": "stream",
     "text": [
      "Accuracy (MLP): 0.8708517876628795\n",
      "F1 Score (MLP): 0.8707096317900794\n"
     ]
    }
   ],
   "source": [
    "#Multi-Layer Perceptron (MLP)\n",
    "mlp_model = MLPClassifier(hidden_layer_sizes=(100,), max_iter=500, random_state=42)\n",
    "mlp_model.fit(X_train, y_train)\n",
    "mlp_preds = mlp_model.predict(X_val)\n",
    "\n",
    "mlp_accuracy = accuracy_score(y_val, mlp_preds)\n",
    "print(\"Accuracy (MLP):\", mlp_accuracy)\n",
    "\n",
    "mlp_f1 = f1_score(y_val, mlp_preds, average='weighted')\n",
    "print(\"F1 Score (MLP):\", mlp_f1)"
   ]
  },
  {
   "cell_type": "markdown",
   "id": "7b9476d0",
   "metadata": {
    "papermill": {
     "duration": 0.023289,
     "end_time": "2023-08-31T00:01:42.135513",
     "exception": false,
     "start_time": "2023-08-31T00:01:42.112224",
     "status": "completed"
    },
    "tags": []
   },
   "source": [
    "# Model Selection"
   ]
  },
  {
   "cell_type": "code",
   "execution_count": 48,
   "id": "2cdc2e72",
   "metadata": {
    "execution": {
     "iopub.execute_input": "2023-08-31T00:01:42.177679Z",
     "iopub.status.busy": "2023-08-31T00:01:42.177264Z",
     "iopub.status.idle": "2023-08-31T00:01:42.468511Z",
     "shell.execute_reply": "2023-08-31T00:01:42.467368Z"
    },
    "papermill": {
     "duration": 0.313998,
     "end_time": "2023-08-31T00:01:42.471694",
     "exception": false,
     "start_time": "2023-08-31T00:01:42.157696",
     "status": "completed"
    },
    "tags": []
   },
   "outputs": [
    {
     "data": {
      "image/png": "[encoded data removed]",
      "text/plain": [
       "<Figure size 1000x600 with 1 Axes>"
      ]
     },
     "metadata": {},
     "output_type": "display_data"
    },
    {
     "name": "stdout",
     "output_type": "stream",
     "text": [
      "\n",
      "Best Model: MLP\n",
      "Accuracy: 0.8708517876628795\n"
     ]
    }
   ],
   "source": [
    "\n",
    "# Sample data for demonstration purposes\n",
    "model_accuracies = {\n",
    "    'Logistic Regression': logistic_regression_accuracy,\n",
    "    'KNN': knn_accuracy,\n",
    "#     'SVM': svm_accuracy,\n",
    "    'CART': cart_accuracy,\n",
    "    'Bagging': bagging_accuracy,\n",
    "    'AdaBoost': boosting_accuracy,\n",
    "    'MLP': mlp_accuracy,\n",
    "    'Random Forest': rf_accuracy,\n",
    "    'Gradient Boosting': gb_accuracy    \n",
    "}\n",
    "\n",
    "best_model = max(model_accuracies, key=model_accuracies.get)\n",
    "best_accuracy = model_accuracies[best_model]\n",
    "\n",
    "# Sort the models and accuracies in descending order based on accuracy\n",
    "sorted_accuracies = sorted(model_accuracies.items(), key=lambda x: x[1], reverse=True)\n",
    "models, accuracies = zip(*sorted_accuracies)\n",
    "\n",
    "# Plotting the horizontal clustered bar chart\n",
    "fig, ax = plt.subplots(figsize=(10, 6))\n",
    "y_pos = np.arange(len(models))\n",
    "colors = plt.cm.coolwarm(np.linspace(0, 1, len(models)))  # Diverging color map\n",
    "ax.barh(y_pos, accuracies, align='center', color=colors, edgecolor='black')\n",
    "ax.set_yticks(y_pos)\n",
    "ax.set_yticklabels(models, fontsize=12)  # Increase font size for y-axis labels\n",
    "ax.invert_yaxis()  # Invert the y-axis to show the highest accuracy at the top\n",
    "ax.set_xlabel('Accuracy', fontsize=12)  # Increase font size for x-axis label\n",
    "ax.set_ylabel('Models', fontsize=12)  # Increase font size for y-axis label\n",
    "ax.set_title('Model Accuracies', fontsize=14)  # Increase font size for title\n",
    "\n",
    "# Annotate the best accuracy on the plot\n",
    "ax.annotate(f\"Best Accuracy: {best_accuracy:.2f}\", xy=(best_accuracy, y_pos[0]),\n",
    "             xytext=(best_accuracy + 0.01, y_pos[0] - 0.7),  # Adjust the annotation position\n",
    "             arrowprops=dict(arrowstyle='->'))\n",
    "\n",
    "\n",
    "# Add percentage labels on the bars\n",
    "for i, v in enumerate(accuracies):\n",
    "    ax.text(v + 0.01, i, f'{v:.2f}', va='center', fontsize=10)\n",
    "\n",
    "# Remove the top and right spines\n",
    "ax.spines['top'].set_visible(False)\n",
    "ax.spines['right'].set_visible(False)\n",
    "\n",
    "# Remove ticks on the y-axis\n",
    "ax.tick_params(axis='y', length=0)\n",
    "\n",
    "# Add a horizontal grid for better readability\n",
    "ax.xaxis.grid(True, linestyle='--', which='major', color='grey', alpha=0.7)\n",
    "\n",
    "# Adjust the space between bars for better spacing\n",
    "plt.subplots_adjust(left=0.2)\n",
    "\n",
    "# Show the plot\n",
    "plt.tight_layout()\n",
    "plt.show()\n",
    "\n",
    "print(f\"\\nBest Model: {best_model}\")\n",
    "print(f\"Accuracy: {best_accuracy}\")\n"
   ]
  },
  {
   "cell_type": "markdown",
   "id": "f34c471e",
   "metadata": {
    "papermill": {
     "duration": 0.018607,
     "end_time": "2023-08-31T00:01:42.509311",
     "exception": false,
     "start_time": "2023-08-31T00:01:42.490704",
     "status": "completed"
    },
    "tags": []
   },
   "source": [
    "# Ensemble Approaches \n",
    "We create a Stacking Ensemble model using the best models and a meta-classifier."
   ]
  },
  {
   "cell_type": "code",
   "execution_count": 49,
   "id": "1a312672",
   "metadata": {
    "execution": {
     "iopub.execute_input": "2023-08-31T00:01:42.549242Z",
     "iopub.status.busy": "2023-08-31T00:01:42.548801Z",
     "iopub.status.idle": "2023-08-31T02:24:23.040972Z",
     "shell.execute_reply": "2023-08-31T02:24:23.031501Z"
    },
    "papermill": {
     "duration": 8560.534812,
     "end_time": "2023-08-31T02:24:23.063208",
     "exception": false,
     "start_time": "2023-08-31T00:01:42.528396",
     "status": "completed"
    },
    "tags": []
   },
   "outputs": [
    {
     "name": "stdout",
     "output_type": "stream",
     "text": [
      "Accuracy (Stacking Ensemble): 0.8883111881378779\n",
      "F1 Score (Stacking Ensemble - Micro): 0.8883111881378779\n"
     ]
    }
   ],
   "source": [
    "# Create the Stacking Ensemble classifier with Logistic Regression as the meta-classifier\n",
    "stacking_model = StackingClassifier(\n",
    "    estimators=[\n",
    "        ('lr', best_logistic_regression_model),\n",
    "        ('bagging', bagging_model),\n",
    "        ('boosting', boosting_model),\n",
    "        ('cart',cart_model),\n",
    "        ('mlp', mlp_model)\n",
    "    ],\n",
    "    final_estimator=mlp_model,\n",
    "    stack_method='predict_proba',  # Use 'predict_proba' to enable probabilities for meta-classifier\n",
    "    n_jobs=-1  # Use all available CPU cores for parallel processing\n",
    ")\n",
    "\n",
    "# Fit the Stacking Ensemble model on the training data\n",
    "stacking_model.fit(X_train, y_train)\n",
    "\n",
    "# Make predictions on the validation data using the Stacking Ensemble model\n",
    "stacking_preds = stacking_model.predict(X_val)\n",
    "\n",
    "# Evaluate the accuracy of the Stacking Ensemble model\n",
    "stacking_accuracy = accuracy_score(y_val, stacking_preds)\n",
    "print(\"Accuracy (Stacking Ensemble):\", stacking_accuracy)\n",
    "\n",
    "stacking_f1_micro = f1_score(y_val, stacking_preds, average='micro')\n",
    "print(\"F1 Score (Stacking Ensemble - Micro):\", stacking_f1_micro)"
   ]
  },
  {
   "cell_type": "code",
   "execution_count": 50,
   "id": "b5b2e630",
   "metadata": {
    "execution": {
     "iopub.execute_input": "2023-08-31T02:24:23.115408Z",
     "iopub.status.busy": "2023-08-31T02:24:23.114932Z",
     "iopub.status.idle": "2023-08-31T02:24:23.150841Z",
     "shell.execute_reply": "2023-08-31T02:24:23.149849Z"
    },
    "papermill": {
     "duration": 0.065079,
     "end_time": "2023-08-31T02:24:23.153400",
     "exception": false,
     "start_time": "2023-08-31T02:24:23.088321",
     "status": "completed"
    },
    "tags": []
   },
   "outputs": [
    {
     "name": "stdout",
     "output_type": "stream",
     "text": [
      "Classification Report (Stacking Ensemble):\n",
      "               precision    recall  f1-score   support\n",
      "\n",
      "           0       0.92      0.86      0.89      7875\n",
      "           1       0.86      0.92      0.89      7704\n",
      "\n",
      "    accuracy                           0.89     15579\n",
      "   macro avg       0.89      0.89      0.89     15579\n",
      "weighted avg       0.89      0.89      0.89     15579\n",
      "\n"
     ]
    }
   ],
   "source": [
    "print(\"Classification Report (Stacking Ensemble):\\n\", classification_report(y_val, stacking_preds))"
   ]
  },
  {
   "cell_type": "code",
   "execution_count": 51,
   "id": "bf9c1c0c",
   "metadata": {
    "execution": {
     "iopub.execute_input": "2023-08-31T02:24:23.195732Z",
     "iopub.status.busy": "2023-08-31T02:24:23.194397Z",
     "iopub.status.idle": "2023-08-31T02:24:23.205048Z",
     "shell.execute_reply": "2023-08-31T02:24:23.203966Z"
    },
    "papermill": {
     "duration": 0.033353,
     "end_time": "2023-08-31T02:24:23.206956",
     "exception": false,
     "start_time": "2023-08-31T02:24:23.173603",
     "status": "completed"
    },
    "tags": []
   },
   "outputs": [
    {
     "name": "stdout",
     "output_type": "stream",
     "text": [
      "Confusion Matrix (Stacking Ensemble):\n",
      " [[6751 1124]\n",
      " [ 616 7088]]\n"
     ]
    }
   ],
   "source": [
    "# Print the confusion matrix for the Stacking Classifier\n",
    "conf_matrix = confusion_matrix(y_val, stacking_preds)\n",
    "print(\"Confusion Matrix (Stacking Ensemble):\\n\", conf_matrix)"
   ]
  },
  {
   "cell_type": "code",
   "execution_count": 52,
   "id": "c3b3463a",
   "metadata": {
    "execution": {
     "iopub.execute_input": "2023-08-31T02:24:23.245989Z",
     "iopub.status.busy": "2023-08-31T02:24:23.244912Z",
     "iopub.status.idle": "2023-08-31T02:24:23.790418Z",
     "shell.execute_reply": "2023-08-31T02:24:23.789260Z"
    },
    "papermill": {
     "duration": 0.56716,
     "end_time": "2023-08-31T02:24:23.792391",
     "exception": false,
     "start_time": "2023-08-31T02:24:23.225231",
     "status": "completed"
    },
    "tags": []
   },
   "outputs": [
    {
     "data": {
      "image/png": "[encoded data removed]",
      "text/plain": [
       "<Figure size 800x600 with 1 Axes>"
      ]
     },
     "metadata": {},
     "output_type": "display_data"
    }
   ],
   "source": [
    "# Calculate ROC curve and ROC AUC score for the Stacking Classifier\n",
    "y_scores_stacking = stacking_model.predict_proba(X_val)[:, 1]\n",
    "fpr, tpr, thresholds = roc_curve(y_val, y_scores_stacking)\n",
    "roc_auc = roc_auc_score(y_val, y_scores_stacking)\n",
    "\n",
    "# Plot ROC curve\n",
    "plt.figure(figsize=(8, 6))\n",
    "plt.plot(fpr, tpr, color='darkorange', lw=2, label=f'ROC curve (area = {roc_auc:.2f})')\n",
    "plt.plot([0, 1], [0, 1], color='navy', lw=2, linestyle='--')\n",
    "plt.xlim([0.0, 1.0])\n",
    "plt.ylim([0.0, 1.05])\n",
    "plt.xlabel('False Positive Rate')\n",
    "plt.ylabel('True Positive Rate')\n",
    "plt.title('Receiver Operating Characteristic (ROC)')\n",
    "plt.legend(loc=\"lower right\")\n",
    "plt.show()"
   ]
  },
  {
   "cell_type": "code",
   "execution_count": 53,
   "id": "edd83cfd",
   "metadata": {
    "execution": {
     "iopub.execute_input": "2023-08-31T02:24:23.834638Z",
     "iopub.status.busy": "2023-08-31T02:24:23.834285Z",
     "iopub.status.idle": "2023-08-31T02:24:23.839353Z",
     "shell.execute_reply": "2023-08-31T02:24:23.837712Z"
    },
    "papermill": {
     "duration": 0.028061,
     "end_time": "2023-08-31T02:24:23.841489",
     "exception": false,
     "start_time": "2023-08-31T02:24:23.813428",
     "status": "completed"
    },
    "tags": []
   },
   "outputs": [],
   "source": [
    "# def ensemble_voting(predictions):\n",
    "#     voted_preds = []\n",
    "#     for i in range(len(predictions[0])):\n",
    "#         votes = [pred[i] for pred in predictions]\n",
    "#         voted_preds.append(max(set(votes), key=votes.count))\n",
    "#     return voted_preds"
   ]
  },
  {
   "cell_type": "code",
   "execution_count": 54,
   "id": "38bfbffe",
   "metadata": {
    "execution": {
     "iopub.execute_input": "2023-08-31T02:24:23.882170Z",
     "iopub.status.busy": "2023-08-31T02:24:23.881762Z",
     "iopub.status.idle": "2023-08-31T02:24:23.886902Z",
     "shell.execute_reply": "2023-08-31T02:24:23.885532Z"
    },
    "papermill": {
     "duration": 0.028383,
     "end_time": "2023-08-31T02:24:23.888959",
     "exception": false,
     "start_time": "2023-08-31T02:24:23.860576",
     "status": "completed"
    },
    "tags": []
   },
   "outputs": [],
   "source": [
    "# ensemble_preds = ensemble_voting([logistic_regression_preds, boosting_preds, mlp_preds])"
   ]
  },
  {
   "cell_type": "code",
   "execution_count": 55,
   "id": "18beaad5",
   "metadata": {
    "execution": {
     "iopub.execute_input": "2023-08-31T02:24:23.929154Z",
     "iopub.status.busy": "2023-08-31T02:24:23.928790Z",
     "iopub.status.idle": "2023-08-31T02:24:23.933289Z",
     "shell.execute_reply": "2023-08-31T02:24:23.932270Z"
    },
    "papermill": {
     "duration": 0.026332,
     "end_time": "2023-08-31T02:24:23.935019",
     "exception": false,
     "start_time": "2023-08-31T02:24:23.908687",
     "status": "completed"
    },
    "tags": []
   },
   "outputs": [],
   "source": [
    "# ensemble_accuracy = accuracy_score(y_val, ensemble_preds)\n",
    "# print(\"Accuracy (Ensemble Voting):\", ensemble_accuracy)"
   ]
  },
  {
   "cell_type": "code",
   "execution_count": 56,
   "id": "8303ef98",
   "metadata": {
    "execution": {
     "iopub.execute_input": "2023-08-31T02:24:23.976057Z",
     "iopub.status.busy": "2023-08-31T02:24:23.975662Z",
     "iopub.status.idle": "2023-08-31T02:24:26.790068Z",
     "shell.execute_reply": "2023-08-31T02:24:26.789381Z"
    },
    "papermill": {
     "duration": 2.837687,
     "end_time": "2023-08-31T02:24:26.792307",
     "exception": false,
     "start_time": "2023-08-31T02:24:23.954620",
     "status": "completed"
    },
    "tags": []
   },
   "outputs": [],
   "source": [
    "# Preprocess the test data\n",
    "X_test = test_data['reviewText'].astype(str).str.lower()\n",
    "X_test = X_test.apply(lambda x: re.sub(r'[^\\w\\s]', '', x))\n",
    "X_test = vectorizer.transform(X_test)\n",
    "\n",
    "# Make predictions on the test data using the best model\n",
    "test_preds = stacking_model.predict(X_test)\n",
    "\n",
    "# Create a DataFrame for the submission\n",
    "submission_df = pd.DataFrame({'id': sample_data['id'], 'sentiment': test_preds})\n",
    "\n",
    "# Map the encoded labels back to their original values\n",
    "submission_df['sentiment'] = label_encoder.inverse_transform(submission_df['sentiment'])\n",
    "\n",
    "# Save the submission DataFrame to a CSV file\n",
    "submission_df.to_csv('submission.csv', index=False)\n"
   ]
  }
 ],
 "kernelspec": {
  "display_name": "Python 3",
  "language": "python",
  "name": "python3"
 },
 "language_info": {
  "codemirror_mode": {
   "name": "ipython",
   "version": 3
  },
  "file_extension": ".py",
  "mimetype": "text/x-python",
  "name": "python",
  "nbconvert_exporter": "python",
  "pygments_lexer": "ipython3",
  "version": "3.6.4"
 },
 "metadata": {
  "kernelspec": {
   "display_name": "Python 3",
   "language": "python",
   "name": "python3"
  },
  "language_info": {
   "codemirror_mode": {
    "name": "ipython",
    "version": 3
   },
   "file_extension": ".py",
   "mimetype": "text/x-python",
   "name": "python",
   "nbconvert_exporter": "python",
   "pygments_lexer": "ipython3",
   "version": "3.10.10"
  },
  "papermill": {
   "default_parameters": {},
   "duration": 13193.498967,
   "end_time": "2023-08-31T02:24:29.461901",
   "environment_variables": {},
   "exception": null,
   "input_path": "__notebook__.ipynb",
   "output_path": "__notebook__.ipynb",
   "parameters": {},
   "start_time": "2023-08-30T22:44:35.962934",
   "version": "2.4.0"
  }
 },
 "nbformat": 4,
 "nbformat_minor": 5
}
